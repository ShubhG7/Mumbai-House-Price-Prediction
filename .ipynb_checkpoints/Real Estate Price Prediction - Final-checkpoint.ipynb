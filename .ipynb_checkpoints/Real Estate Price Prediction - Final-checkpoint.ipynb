{
 "cells": [
  {
   "cell_type": "markdown",
   "id": "6ecb6b9d",
   "metadata": {},
   "source": [
    "# Real Estate Sell Price Prediction "
   ]
  },
  {
   "cell_type": "markdown",
   "id": "3b7bb647",
   "metadata": {},
   "source": [
    "#### Data set - https://www.kaggle.com/datasets/sameep98/housing-prices-in-mumbai"
   ]
  },
  {
   "cell_type": "code",
   "execution_count": 1,
   "id": "c187151c",
   "metadata": {},
   "outputs": [],
   "source": [
    "import pandas as pd\n",
    "import numpy as np"
   ]
  },
  {
   "cell_type": "code",
   "execution_count": 2,
   "id": "68afe969",
   "metadata": {},
   "outputs": [
    {
     "data": {
      "text/html": [
       "<div>\n",
       "<style scoped>\n",
       "    .dataframe tbody tr th:only-of-type {\n",
       "        vertical-align: middle;\n",
       "    }\n",
       "\n",
       "    .dataframe tbody tr th {\n",
       "        vertical-align: top;\n",
       "    }\n",
       "\n",
       "    .dataframe thead th {\n",
       "        text-align: right;\n",
       "    }\n",
       "</style>\n",
       "<table border=\"1\" class=\"dataframe\">\n",
       "  <thead>\n",
       "    <tr style=\"text-align: right;\">\n",
       "      <th></th>\n",
       "      <th>Unnamed: 0</th>\n",
       "      <th>Price</th>\n",
       "      <th>Area</th>\n",
       "      <th>Location</th>\n",
       "      <th>No. of Bedrooms</th>\n",
       "      <th>New/Resale</th>\n",
       "      <th>Gymnasium</th>\n",
       "      <th>Lift Available</th>\n",
       "      <th>Car Parking</th>\n",
       "      <th>Maintenance Staff</th>\n",
       "      <th>24x7 Security</th>\n",
       "      <th>Children's Play Area</th>\n",
       "      <th>Clubhouse</th>\n",
       "      <th>Intercom</th>\n",
       "      <th>Landscaped Gardens</th>\n",
       "      <th>Indoor Games</th>\n",
       "      <th>Gas Connection</th>\n",
       "      <th>Jogging Track</th>\n",
       "      <th>Swimming Pool</th>\n",
       "    </tr>\n",
       "  </thead>\n",
       "  <tbody>\n",
       "    <tr>\n",
       "      <th>0</th>\n",
       "      <td>0</td>\n",
       "      <td>4850000</td>\n",
       "      <td>720</td>\n",
       "      <td>Kharghar</td>\n",
       "      <td>1</td>\n",
       "      <td>0</td>\n",
       "      <td>0</td>\n",
       "      <td>1</td>\n",
       "      <td>1</td>\n",
       "      <td>1</td>\n",
       "      <td>1</td>\n",
       "      <td>0</td>\n",
       "      <td>0</td>\n",
       "      <td>0</td>\n",
       "      <td>0</td>\n",
       "      <td>0</td>\n",
       "      <td>0</td>\n",
       "      <td>0</td>\n",
       "      <td>0</td>\n",
       "    </tr>\n",
       "    <tr>\n",
       "      <th>1</th>\n",
       "      <td>1</td>\n",
       "      <td>4500000</td>\n",
       "      <td>600</td>\n",
       "      <td>Kharghar</td>\n",
       "      <td>1</td>\n",
       "      <td>0</td>\n",
       "      <td>1</td>\n",
       "      <td>1</td>\n",
       "      <td>1</td>\n",
       "      <td>1</td>\n",
       "      <td>1</td>\n",
       "      <td>0</td>\n",
       "      <td>1</td>\n",
       "      <td>0</td>\n",
       "      <td>0</td>\n",
       "      <td>0</td>\n",
       "      <td>0</td>\n",
       "      <td>1</td>\n",
       "      <td>1</td>\n",
       "    </tr>\n",
       "    <tr>\n",
       "      <th>2</th>\n",
       "      <td>2</td>\n",
       "      <td>6700000</td>\n",
       "      <td>650</td>\n",
       "      <td>Kharghar</td>\n",
       "      <td>1</td>\n",
       "      <td>0</td>\n",
       "      <td>1</td>\n",
       "      <td>1</td>\n",
       "      <td>1</td>\n",
       "      <td>1</td>\n",
       "      <td>1</td>\n",
       "      <td>1</td>\n",
       "      <td>1</td>\n",
       "      <td>1</td>\n",
       "      <td>0</td>\n",
       "      <td>0</td>\n",
       "      <td>0</td>\n",
       "      <td>1</td>\n",
       "      <td>1</td>\n",
       "    </tr>\n",
       "    <tr>\n",
       "      <th>3</th>\n",
       "      <td>3</td>\n",
       "      <td>4500000</td>\n",
       "      <td>650</td>\n",
       "      <td>Kharghar</td>\n",
       "      <td>1</td>\n",
       "      <td>0</td>\n",
       "      <td>0</td>\n",
       "      <td>1</td>\n",
       "      <td>1</td>\n",
       "      <td>1</td>\n",
       "      <td>1</td>\n",
       "      <td>0</td>\n",
       "      <td>0</td>\n",
       "      <td>1</td>\n",
       "      <td>1</td>\n",
       "      <td>0</td>\n",
       "      <td>0</td>\n",
       "      <td>0</td>\n",
       "      <td>0</td>\n",
       "    </tr>\n",
       "    <tr>\n",
       "      <th>4</th>\n",
       "      <td>4</td>\n",
       "      <td>5000000</td>\n",
       "      <td>665</td>\n",
       "      <td>Kharghar</td>\n",
       "      <td>1</td>\n",
       "      <td>0</td>\n",
       "      <td>0</td>\n",
       "      <td>1</td>\n",
       "      <td>1</td>\n",
       "      <td>1</td>\n",
       "      <td>1</td>\n",
       "      <td>0</td>\n",
       "      <td>0</td>\n",
       "      <td>1</td>\n",
       "      <td>1</td>\n",
       "      <td>0</td>\n",
       "      <td>0</td>\n",
       "      <td>0</td>\n",
       "      <td>0</td>\n",
       "    </tr>\n",
       "  </tbody>\n",
       "</table>\n",
       "</div>"
      ],
      "text/plain": [
       "   Unnamed: 0    Price  Area  Location  No. of Bedrooms  New/Resale  \\\n",
       "0           0  4850000   720  Kharghar                1           0   \n",
       "1           1  4500000   600  Kharghar                1           0   \n",
       "2           2  6700000   650  Kharghar                1           0   \n",
       "3           3  4500000   650  Kharghar                1           0   \n",
       "4           4  5000000   665  Kharghar                1           0   \n",
       "\n",
       "   Gymnasium  Lift Available  Car Parking  Maintenance Staff  24x7 Security  \\\n",
       "0          0               1            1                  1              1   \n",
       "1          1               1            1                  1              1   \n",
       "2          1               1            1                  1              1   \n",
       "3          0               1            1                  1              1   \n",
       "4          0               1            1                  1              1   \n",
       "\n",
       "   Children's Play Area  Clubhouse  Intercom  Landscaped Gardens  \\\n",
       "0                     0          0         0                   0   \n",
       "1                     0          1         0                   0   \n",
       "2                     1          1         1                   0   \n",
       "3                     0          0         1                   1   \n",
       "4                     0          0         1                   1   \n",
       "\n",
       "   Indoor Games  Gas Connection  Jogging Track  Swimming Pool  \n",
       "0             0               0              0              0  \n",
       "1             0               0              1              1  \n",
       "2             0               0              1              1  \n",
       "3             0               0              0              0  \n",
       "4             0               0              0              0  "
      ]
     },
     "execution_count": 2,
     "metadata": {},
     "output_type": "execute_result"
    }
   ],
   "source": [
    "df = pd.read_csv(\"Mumbai1.csv\")\n",
    "df.head()"
   ]
  },
  {
   "cell_type": "code",
   "execution_count": 3,
   "id": "bc5844b5",
   "metadata": {},
   "outputs": [
    {
     "data": {
      "text/html": [
       "<div>\n",
       "<style scoped>\n",
       "    .dataframe tbody tr th:only-of-type {\n",
       "        vertical-align: middle;\n",
       "    }\n",
       "\n",
       "    .dataframe tbody tr th {\n",
       "        vertical-align: top;\n",
       "    }\n",
       "\n",
       "    .dataframe thead th {\n",
       "        text-align: right;\n",
       "    }\n",
       "</style>\n",
       "<table border=\"1\" class=\"dataframe\">\n",
       "  <thead>\n",
       "    <tr style=\"text-align: right;\">\n",
       "      <th></th>\n",
       "      <th>Unnamed: 0</th>\n",
       "      <th>Price</th>\n",
       "      <th>Area</th>\n",
       "      <th>No. of Bedrooms</th>\n",
       "      <th>New/Resale</th>\n",
       "      <th>Gymnasium</th>\n",
       "      <th>Lift Available</th>\n",
       "      <th>Car Parking</th>\n",
       "      <th>Maintenance Staff</th>\n",
       "      <th>24x7 Security</th>\n",
       "      <th>Children's Play Area</th>\n",
       "      <th>Clubhouse</th>\n",
       "      <th>Intercom</th>\n",
       "      <th>Landscaped Gardens</th>\n",
       "      <th>Indoor Games</th>\n",
       "      <th>Gas Connection</th>\n",
       "      <th>Jogging Track</th>\n",
       "      <th>Swimming Pool</th>\n",
       "    </tr>\n",
       "  </thead>\n",
       "  <tbody>\n",
       "    <tr>\n",
       "      <th>count</th>\n",
       "      <td>6347.000000</td>\n",
       "      <td>6.347000e+03</td>\n",
       "      <td>6347.000000</td>\n",
       "      <td>6347.000000</td>\n",
       "      <td>6347.000000</td>\n",
       "      <td>6347.000000</td>\n",
       "      <td>6347.000000</td>\n",
       "      <td>6347.000000</td>\n",
       "      <td>6347.000000</td>\n",
       "      <td>6347.000000</td>\n",
       "      <td>6347.000000</td>\n",
       "      <td>6347.000000</td>\n",
       "      <td>6347.000000</td>\n",
       "      <td>6347.000000</td>\n",
       "      <td>6347.000000</td>\n",
       "      <td>6347.000000</td>\n",
       "      <td>6347.000000</td>\n",
       "      <td>6347.000000</td>\n",
       "    </tr>\n",
       "    <tr>\n",
       "      <th>mean</th>\n",
       "      <td>3173.000000</td>\n",
       "      <td>1.515401e+07</td>\n",
       "      <td>1004.327084</td>\n",
       "      <td>1.910036</td>\n",
       "      <td>0.341736</td>\n",
       "      <td>0.581377</td>\n",
       "      <td>0.801481</td>\n",
       "      <td>0.562943</td>\n",
       "      <td>0.281393</td>\n",
       "      <td>0.562943</td>\n",
       "      <td>0.559319</td>\n",
       "      <td>0.496297</td>\n",
       "      <td>0.484796</td>\n",
       "      <td>0.360643</td>\n",
       "      <td>0.219631</td>\n",
       "      <td>0.243107</td>\n",
       "      <td>0.381440</td>\n",
       "      <td>0.458327</td>\n",
       "    </tr>\n",
       "    <tr>\n",
       "      <th>std</th>\n",
       "      <td>1832.365411</td>\n",
       "      <td>2.015943e+07</td>\n",
       "      <td>556.375703</td>\n",
       "      <td>0.863304</td>\n",
       "      <td>0.474329</td>\n",
       "      <td>0.493372</td>\n",
       "      <td>0.398916</td>\n",
       "      <td>0.496061</td>\n",
       "      <td>0.449714</td>\n",
       "      <td>0.496061</td>\n",
       "      <td>0.496508</td>\n",
       "      <td>0.500026</td>\n",
       "      <td>0.499808</td>\n",
       "      <td>0.480225</td>\n",
       "      <td>0.414029</td>\n",
       "      <td>0.428993</td>\n",
       "      <td>0.485778</td>\n",
       "      <td>0.498300</td>\n",
       "    </tr>\n",
       "    <tr>\n",
       "      <th>min</th>\n",
       "      <td>0.000000</td>\n",
       "      <td>2.000000e+06</td>\n",
       "      <td>200.000000</td>\n",
       "      <td>1.000000</td>\n",
       "      <td>0.000000</td>\n",
       "      <td>0.000000</td>\n",
       "      <td>0.000000</td>\n",
       "      <td>0.000000</td>\n",
       "      <td>0.000000</td>\n",
       "      <td>0.000000</td>\n",
       "      <td>0.000000</td>\n",
       "      <td>0.000000</td>\n",
       "      <td>0.000000</td>\n",
       "      <td>0.000000</td>\n",
       "      <td>0.000000</td>\n",
       "      <td>0.000000</td>\n",
       "      <td>0.000000</td>\n",
       "      <td>0.000000</td>\n",
       "    </tr>\n",
       "    <tr>\n",
       "      <th>25%</th>\n",
       "      <td>1586.500000</td>\n",
       "      <td>5.300000e+06</td>\n",
       "      <td>650.000000</td>\n",
       "      <td>1.000000</td>\n",
       "      <td>0.000000</td>\n",
       "      <td>0.000000</td>\n",
       "      <td>1.000000</td>\n",
       "      <td>0.000000</td>\n",
       "      <td>0.000000</td>\n",
       "      <td>0.000000</td>\n",
       "      <td>0.000000</td>\n",
       "      <td>0.000000</td>\n",
       "      <td>0.000000</td>\n",
       "      <td>0.000000</td>\n",
       "      <td>0.000000</td>\n",
       "      <td>0.000000</td>\n",
       "      <td>0.000000</td>\n",
       "      <td>0.000000</td>\n",
       "    </tr>\n",
       "    <tr>\n",
       "      <th>50%</th>\n",
       "      <td>3173.000000</td>\n",
       "      <td>9.500000e+06</td>\n",
       "      <td>905.000000</td>\n",
       "      <td>2.000000</td>\n",
       "      <td>0.000000</td>\n",
       "      <td>1.000000</td>\n",
       "      <td>1.000000</td>\n",
       "      <td>1.000000</td>\n",
       "      <td>0.000000</td>\n",
       "      <td>1.000000</td>\n",
       "      <td>1.000000</td>\n",
       "      <td>0.000000</td>\n",
       "      <td>0.000000</td>\n",
       "      <td>0.000000</td>\n",
       "      <td>0.000000</td>\n",
       "      <td>0.000000</td>\n",
       "      <td>0.000000</td>\n",
       "      <td>0.000000</td>\n",
       "    </tr>\n",
       "    <tr>\n",
       "      <th>75%</th>\n",
       "      <td>4759.500000</td>\n",
       "      <td>1.750000e+07</td>\n",
       "      <td>1182.000000</td>\n",
       "      <td>2.000000</td>\n",
       "      <td>1.000000</td>\n",
       "      <td>1.000000</td>\n",
       "      <td>1.000000</td>\n",
       "      <td>1.000000</td>\n",
       "      <td>1.000000</td>\n",
       "      <td>1.000000</td>\n",
       "      <td>1.000000</td>\n",
       "      <td>1.000000</td>\n",
       "      <td>1.000000</td>\n",
       "      <td>1.000000</td>\n",
       "      <td>0.000000</td>\n",
       "      <td>0.000000</td>\n",
       "      <td>1.000000</td>\n",
       "      <td>1.000000</td>\n",
       "    </tr>\n",
       "    <tr>\n",
       "      <th>max</th>\n",
       "      <td>6346.000000</td>\n",
       "      <td>4.200000e+08</td>\n",
       "      <td>8511.000000</td>\n",
       "      <td>7.000000</td>\n",
       "      <td>1.000000</td>\n",
       "      <td>1.000000</td>\n",
       "      <td>1.000000</td>\n",
       "      <td>1.000000</td>\n",
       "      <td>1.000000</td>\n",
       "      <td>1.000000</td>\n",
       "      <td>1.000000</td>\n",
       "      <td>1.000000</td>\n",
       "      <td>1.000000</td>\n",
       "      <td>1.000000</td>\n",
       "      <td>1.000000</td>\n",
       "      <td>1.000000</td>\n",
       "      <td>1.000000</td>\n",
       "      <td>1.000000</td>\n",
       "    </tr>\n",
       "  </tbody>\n",
       "</table>\n",
       "</div>"
      ],
      "text/plain": [
       "        Unnamed: 0         Price         Area  No. of Bedrooms   New/Resale  \\\n",
       "count  6347.000000  6.347000e+03  6347.000000      6347.000000  6347.000000   \n",
       "mean   3173.000000  1.515401e+07  1004.327084         1.910036     0.341736   \n",
       "std    1832.365411  2.015943e+07   556.375703         0.863304     0.474329   \n",
       "min       0.000000  2.000000e+06   200.000000         1.000000     0.000000   \n",
       "25%    1586.500000  5.300000e+06   650.000000         1.000000     0.000000   \n",
       "50%    3173.000000  9.500000e+06   905.000000         2.000000     0.000000   \n",
       "75%    4759.500000  1.750000e+07  1182.000000         2.000000     1.000000   \n",
       "max    6346.000000  4.200000e+08  8511.000000         7.000000     1.000000   \n",
       "\n",
       "         Gymnasium  Lift Available  Car Parking  Maintenance Staff  \\\n",
       "count  6347.000000     6347.000000  6347.000000        6347.000000   \n",
       "mean      0.581377        0.801481     0.562943           0.281393   \n",
       "std       0.493372        0.398916     0.496061           0.449714   \n",
       "min       0.000000        0.000000     0.000000           0.000000   \n",
       "25%       0.000000        1.000000     0.000000           0.000000   \n",
       "50%       1.000000        1.000000     1.000000           0.000000   \n",
       "75%       1.000000        1.000000     1.000000           1.000000   \n",
       "max       1.000000        1.000000     1.000000           1.000000   \n",
       "\n",
       "       24x7 Security  Children's Play Area    Clubhouse     Intercom  \\\n",
       "count    6347.000000           6347.000000  6347.000000  6347.000000   \n",
       "mean        0.562943              0.559319     0.496297     0.484796   \n",
       "std         0.496061              0.496508     0.500026     0.499808   \n",
       "min         0.000000              0.000000     0.000000     0.000000   \n",
       "25%         0.000000              0.000000     0.000000     0.000000   \n",
       "50%         1.000000              1.000000     0.000000     0.000000   \n",
       "75%         1.000000              1.000000     1.000000     1.000000   \n",
       "max         1.000000              1.000000     1.000000     1.000000   \n",
       "\n",
       "       Landscaped Gardens  Indoor Games  Gas Connection  Jogging Track  \\\n",
       "count         6347.000000   6347.000000     6347.000000    6347.000000   \n",
       "mean             0.360643      0.219631        0.243107       0.381440   \n",
       "std              0.480225      0.414029        0.428993       0.485778   \n",
       "min              0.000000      0.000000        0.000000       0.000000   \n",
       "25%              0.000000      0.000000        0.000000       0.000000   \n",
       "50%              0.000000      0.000000        0.000000       0.000000   \n",
       "75%              1.000000      0.000000        0.000000       1.000000   \n",
       "max              1.000000      1.000000        1.000000       1.000000   \n",
       "\n",
       "       Swimming Pool  \n",
       "count    6347.000000  \n",
       "mean        0.458327  \n",
       "std         0.498300  \n",
       "min         0.000000  \n",
       "25%         0.000000  \n",
       "50%         0.000000  \n",
       "75%         1.000000  \n",
       "max         1.000000  "
      ]
     },
     "execution_count": 3,
     "metadata": {},
     "output_type": "execute_result"
    }
   ],
   "source": [
    "# It ignores null values\n",
    "df.describe()"
   ]
  },
  {
   "cell_type": "code",
   "execution_count": 4,
   "id": "91de3680",
   "metadata": {},
   "outputs": [
    {
     "name": "stdout",
     "output_type": "stream",
     "text": [
      "<class 'pandas.core.frame.DataFrame'>\n",
      "RangeIndex: 6347 entries, 0 to 6346\n",
      "Data columns (total 19 columns):\n",
      " #   Column                Non-Null Count  Dtype \n",
      "---  ------                --------------  ----- \n",
      " 0   Unnamed: 0            6347 non-null   int64 \n",
      " 1   Price                 6347 non-null   int64 \n",
      " 2   Area                  6347 non-null   int64 \n",
      " 3   Location              6347 non-null   object\n",
      " 4   No. of Bedrooms       6347 non-null   int64 \n",
      " 5   New/Resale            6347 non-null   int64 \n",
      " 6   Gymnasium             6347 non-null   int64 \n",
      " 7   Lift Available        6347 non-null   int64 \n",
      " 8   Car Parking           6347 non-null   int64 \n",
      " 9   Maintenance Staff     6347 non-null   int64 \n",
      " 10  24x7 Security         6347 non-null   int64 \n",
      " 11  Children's Play Area  6347 non-null   int64 \n",
      " 12  Clubhouse             6347 non-null   int64 \n",
      " 13  Intercom              6347 non-null   int64 \n",
      " 14  Landscaped Gardens    6347 non-null   int64 \n",
      " 15  Indoor Games          6347 non-null   int64 \n",
      " 16  Gas Connection        6347 non-null   int64 \n",
      " 17  Jogging Track         6347 non-null   int64 \n",
      " 18  Swimming Pool         6347 non-null   int64 \n",
      "dtypes: int64(18), object(1)\n",
      "memory usage: 942.3+ KB\n"
     ]
    }
   ],
   "source": [
    "df.info()"
   ]
  },
  {
   "cell_type": "markdown",
   "id": "0ab6ac2b",
   "metadata": {},
   "source": [
    "### Total 6347 rows and 19 columns"
   ]
  },
  {
   "cell_type": "code",
   "execution_count": 5,
   "id": "529b7bfc",
   "metadata": {},
   "outputs": [
    {
     "data": {
      "text/plain": [
       "(6347, 19)"
      ]
     },
     "execution_count": 5,
     "metadata": {},
     "output_type": "execute_result"
    }
   ],
   "source": [
    "df.shape"
   ]
  },
  {
   "cell_type": "code",
   "execution_count": 6,
   "id": "f454232c",
   "metadata": {},
   "outputs": [
    {
     "data": {
      "text/html": [
       "<div>\n",
       "<style scoped>\n",
       "    .dataframe tbody tr th:only-of-type {\n",
       "        vertical-align: middle;\n",
       "    }\n",
       "\n",
       "    .dataframe tbody tr th {\n",
       "        vertical-align: top;\n",
       "    }\n",
       "\n",
       "    .dataframe thead th {\n",
       "        text-align: right;\n",
       "    }\n",
       "</style>\n",
       "<table border=\"1\" class=\"dataframe\">\n",
       "  <thead>\n",
       "    <tr style=\"text-align: right;\">\n",
       "      <th></th>\n",
       "      <th>Price</th>\n",
       "      <th>Area</th>\n",
       "      <th>Location</th>\n",
       "      <th>No. of Bedrooms</th>\n",
       "      <th>New/Resale</th>\n",
       "      <th>Gymnasium</th>\n",
       "      <th>Lift Available</th>\n",
       "      <th>Car Parking</th>\n",
       "      <th>Maintenance Staff</th>\n",
       "      <th>24x7 Security</th>\n",
       "      <th>Children's Play Area</th>\n",
       "      <th>Clubhouse</th>\n",
       "      <th>Intercom</th>\n",
       "      <th>Landscaped Gardens</th>\n",
       "      <th>Indoor Games</th>\n",
       "      <th>Gas Connection</th>\n",
       "      <th>Jogging Track</th>\n",
       "      <th>Swimming Pool</th>\n",
       "    </tr>\n",
       "  </thead>\n",
       "  <tbody>\n",
       "    <tr>\n",
       "      <th>0</th>\n",
       "      <td>4850000</td>\n",
       "      <td>720</td>\n",
       "      <td>Kharghar</td>\n",
       "      <td>1</td>\n",
       "      <td>0</td>\n",
       "      <td>0</td>\n",
       "      <td>1</td>\n",
       "      <td>1</td>\n",
       "      <td>1</td>\n",
       "      <td>1</td>\n",
       "      <td>0</td>\n",
       "      <td>0</td>\n",
       "      <td>0</td>\n",
       "      <td>0</td>\n",
       "      <td>0</td>\n",
       "      <td>0</td>\n",
       "      <td>0</td>\n",
       "      <td>0</td>\n",
       "    </tr>\n",
       "    <tr>\n",
       "      <th>1</th>\n",
       "      <td>4500000</td>\n",
       "      <td>600</td>\n",
       "      <td>Kharghar</td>\n",
       "      <td>1</td>\n",
       "      <td>0</td>\n",
       "      <td>1</td>\n",
       "      <td>1</td>\n",
       "      <td>1</td>\n",
       "      <td>1</td>\n",
       "      <td>1</td>\n",
       "      <td>0</td>\n",
       "      <td>1</td>\n",
       "      <td>0</td>\n",
       "      <td>0</td>\n",
       "      <td>0</td>\n",
       "      <td>0</td>\n",
       "      <td>1</td>\n",
       "      <td>1</td>\n",
       "    </tr>\n",
       "    <tr>\n",
       "      <th>2</th>\n",
       "      <td>6700000</td>\n",
       "      <td>650</td>\n",
       "      <td>Kharghar</td>\n",
       "      <td>1</td>\n",
       "      <td>0</td>\n",
       "      <td>1</td>\n",
       "      <td>1</td>\n",
       "      <td>1</td>\n",
       "      <td>1</td>\n",
       "      <td>1</td>\n",
       "      <td>1</td>\n",
       "      <td>1</td>\n",
       "      <td>1</td>\n",
       "      <td>0</td>\n",
       "      <td>0</td>\n",
       "      <td>0</td>\n",
       "      <td>1</td>\n",
       "      <td>1</td>\n",
       "    </tr>\n",
       "    <tr>\n",
       "      <th>3</th>\n",
       "      <td>4500000</td>\n",
       "      <td>650</td>\n",
       "      <td>Kharghar</td>\n",
       "      <td>1</td>\n",
       "      <td>0</td>\n",
       "      <td>0</td>\n",
       "      <td>1</td>\n",
       "      <td>1</td>\n",
       "      <td>1</td>\n",
       "      <td>1</td>\n",
       "      <td>0</td>\n",
       "      <td>0</td>\n",
       "      <td>1</td>\n",
       "      <td>1</td>\n",
       "      <td>0</td>\n",
       "      <td>0</td>\n",
       "      <td>0</td>\n",
       "      <td>0</td>\n",
       "    </tr>\n",
       "    <tr>\n",
       "      <th>4</th>\n",
       "      <td>5000000</td>\n",
       "      <td>665</td>\n",
       "      <td>Kharghar</td>\n",
       "      <td>1</td>\n",
       "      <td>0</td>\n",
       "      <td>0</td>\n",
       "      <td>1</td>\n",
       "      <td>1</td>\n",
       "      <td>1</td>\n",
       "      <td>1</td>\n",
       "      <td>0</td>\n",
       "      <td>0</td>\n",
       "      <td>1</td>\n",
       "      <td>1</td>\n",
       "      <td>0</td>\n",
       "      <td>0</td>\n",
       "      <td>0</td>\n",
       "      <td>0</td>\n",
       "    </tr>\n",
       "  </tbody>\n",
       "</table>\n",
       "</div>"
      ],
      "text/plain": [
       "     Price  Area  Location  No. of Bedrooms  New/Resale  Gymnasium  \\\n",
       "0  4850000   720  Kharghar                1           0          0   \n",
       "1  4500000   600  Kharghar                1           0          1   \n",
       "2  6700000   650  Kharghar                1           0          1   \n",
       "3  4500000   650  Kharghar                1           0          0   \n",
       "4  5000000   665  Kharghar                1           0          0   \n",
       "\n",
       "   Lift Available  Car Parking  Maintenance Staff  24x7 Security  \\\n",
       "0               1            1                  1              1   \n",
       "1               1            1                  1              1   \n",
       "2               1            1                  1              1   \n",
       "3               1            1                  1              1   \n",
       "4               1            1                  1              1   \n",
       "\n",
       "   Children's Play Area  Clubhouse  Intercom  Landscaped Gardens  \\\n",
       "0                     0          0         0                   0   \n",
       "1                     0          1         0                   0   \n",
       "2                     1          1         1                   0   \n",
       "3                     0          0         1                   1   \n",
       "4                     0          0         1                   1   \n",
       "\n",
       "   Indoor Games  Gas Connection  Jogging Track  Swimming Pool  \n",
       "0             0               0              0              0  \n",
       "1             0               0              1              1  \n",
       "2             0               0              1              1  \n",
       "3             0               0              0              0  \n",
       "4             0               0              0              0  "
      ]
     },
     "execution_count": 6,
     "metadata": {},
     "output_type": "execute_result"
    }
   ],
   "source": [
    "# Creating copy of original dataset and deleting column unnamed\n",
    "data = df.copy()\n",
    "data.drop([\"Unnamed: 0\"], axis=1, inplace=True)\n",
    "data.head()"
   ]
  },
  {
   "cell_type": "code",
   "execution_count": 7,
   "id": "9ebf2e32",
   "metadata": {},
   "outputs": [],
   "source": [
    "# from sklearn.preprocessing import MinMaxScaler\n",
    "# scaler= MinMaxScaler()\n",
    "\n",
    "# data[\"std_Price\"]=pd.DataFrame(scaler.fit_transform(data[[\"Price\"]]),columns=[\"std_Price\"])\n",
    "# data.head()"
   ]
  },
  {
   "cell_type": "markdown",
   "id": "8caa24c6",
   "metadata": {},
   "source": [
    "### Total 413 unique locations and we are encoding them as numeric values"
   ]
  },
  {
   "cell_type": "code",
   "execution_count": 8,
   "id": "49a8d25d",
   "metadata": {},
   "outputs": [
    {
     "name": "stdout",
     "output_type": "stream",
     "text": [
      "413\n"
     ]
    }
   ],
   "source": [
    "print(len(df.Location.unique()))"
   ]
  },
  {
   "cell_type": "markdown",
   "id": "be255043",
   "metadata": {},
   "source": [
    "#### Few algorithms such as CATBOAST, decision-trees can handle categorical values very well but most of the algorithms expect numerical values to achieve state-of-the-art results. Here, Location is a categorial value"
   ]
  },
  {
   "cell_type": "code",
   "execution_count": 9,
   "id": "758cd953",
   "metadata": {},
   "outputs": [
    {
     "data": {
      "text/html": [
       "<div>\n",
       "<style scoped>\n",
       "    .dataframe tbody tr th:only-of-type {\n",
       "        vertical-align: middle;\n",
       "    }\n",
       "\n",
       "    .dataframe tbody tr th {\n",
       "        vertical-align: top;\n",
       "    }\n",
       "\n",
       "    .dataframe thead th {\n",
       "        text-align: right;\n",
       "    }\n",
       "</style>\n",
       "<table border=\"1\" class=\"dataframe\">\n",
       "  <thead>\n",
       "    <tr style=\"text-align: right;\">\n",
       "      <th></th>\n",
       "      <th>Price</th>\n",
       "      <th>Area</th>\n",
       "      <th>Location_encoded</th>\n",
       "      <th>No. of Bedrooms</th>\n",
       "      <th>New/Resale</th>\n",
       "      <th>Gymnasium</th>\n",
       "      <th>Lift Available</th>\n",
       "      <th>Car Parking</th>\n",
       "      <th>Maintenance Staff</th>\n",
       "      <th>24x7 Security</th>\n",
       "      <th>Children's Play Area</th>\n",
       "      <th>Clubhouse</th>\n",
       "      <th>Intercom</th>\n",
       "      <th>Landscaped Gardens</th>\n",
       "      <th>Indoor Games</th>\n",
       "      <th>Gas Connection</th>\n",
       "      <th>Jogging Track</th>\n",
       "      <th>Swimming Pool</th>\n",
       "    </tr>\n",
       "  </thead>\n",
       "  <tbody>\n",
       "    <tr>\n",
       "      <th>0</th>\n",
       "      <td>4850000</td>\n",
       "      <td>720</td>\n",
       "      <td>136</td>\n",
       "      <td>1</td>\n",
       "      <td>0</td>\n",
       "      <td>0</td>\n",
       "      <td>1</td>\n",
       "      <td>1</td>\n",
       "      <td>1</td>\n",
       "      <td>1</td>\n",
       "      <td>0</td>\n",
       "      <td>0</td>\n",
       "      <td>0</td>\n",
       "      <td>0</td>\n",
       "      <td>0</td>\n",
       "      <td>0</td>\n",
       "      <td>0</td>\n",
       "      <td>0</td>\n",
       "    </tr>\n",
       "    <tr>\n",
       "      <th>1</th>\n",
       "      <td>4500000</td>\n",
       "      <td>600</td>\n",
       "      <td>136</td>\n",
       "      <td>1</td>\n",
       "      <td>0</td>\n",
       "      <td>1</td>\n",
       "      <td>1</td>\n",
       "      <td>1</td>\n",
       "      <td>1</td>\n",
       "      <td>1</td>\n",
       "      <td>0</td>\n",
       "      <td>1</td>\n",
       "      <td>0</td>\n",
       "      <td>0</td>\n",
       "      <td>0</td>\n",
       "      <td>0</td>\n",
       "      <td>1</td>\n",
       "      <td>1</td>\n",
       "    </tr>\n",
       "    <tr>\n",
       "      <th>2</th>\n",
       "      <td>6700000</td>\n",
       "      <td>650</td>\n",
       "      <td>136</td>\n",
       "      <td>1</td>\n",
       "      <td>0</td>\n",
       "      <td>1</td>\n",
       "      <td>1</td>\n",
       "      <td>1</td>\n",
       "      <td>1</td>\n",
       "      <td>1</td>\n",
       "      <td>1</td>\n",
       "      <td>1</td>\n",
       "      <td>1</td>\n",
       "      <td>0</td>\n",
       "      <td>0</td>\n",
       "      <td>0</td>\n",
       "      <td>1</td>\n",
       "      <td>1</td>\n",
       "    </tr>\n",
       "    <tr>\n",
       "      <th>3</th>\n",
       "      <td>4500000</td>\n",
       "      <td>650</td>\n",
       "      <td>136</td>\n",
       "      <td>1</td>\n",
       "      <td>0</td>\n",
       "      <td>0</td>\n",
       "      <td>1</td>\n",
       "      <td>1</td>\n",
       "      <td>1</td>\n",
       "      <td>1</td>\n",
       "      <td>0</td>\n",
       "      <td>0</td>\n",
       "      <td>1</td>\n",
       "      <td>1</td>\n",
       "      <td>0</td>\n",
       "      <td>0</td>\n",
       "      <td>0</td>\n",
       "      <td>0</td>\n",
       "    </tr>\n",
       "    <tr>\n",
       "      <th>4</th>\n",
       "      <td>5000000</td>\n",
       "      <td>665</td>\n",
       "      <td>136</td>\n",
       "      <td>1</td>\n",
       "      <td>0</td>\n",
       "      <td>0</td>\n",
       "      <td>1</td>\n",
       "      <td>1</td>\n",
       "      <td>1</td>\n",
       "      <td>1</td>\n",
       "      <td>0</td>\n",
       "      <td>0</td>\n",
       "      <td>1</td>\n",
       "      <td>1</td>\n",
       "      <td>0</td>\n",
       "      <td>0</td>\n",
       "      <td>0</td>\n",
       "      <td>0</td>\n",
       "    </tr>\n",
       "  </tbody>\n",
       "</table>\n",
       "</div>"
      ],
      "text/plain": [
       "     Price  Area  Location_encoded  No. of Bedrooms  New/Resale  Gymnasium  \\\n",
       "0  4850000   720               136                1           0          0   \n",
       "1  4500000   600               136                1           0          1   \n",
       "2  6700000   650               136                1           0          1   \n",
       "3  4500000   650               136                1           0          0   \n",
       "4  5000000   665               136                1           0          0   \n",
       "\n",
       "   Lift Available  Car Parking  Maintenance Staff  24x7 Security  \\\n",
       "0               1            1                  1              1   \n",
       "1               1            1                  1              1   \n",
       "2               1            1                  1              1   \n",
       "3               1            1                  1              1   \n",
       "4               1            1                  1              1   \n",
       "\n",
       "   Children's Play Area  Clubhouse  Intercom  Landscaped Gardens  \\\n",
       "0                     0          0         0                   0   \n",
       "1                     0          1         0                   0   \n",
       "2                     1          1         1                   0   \n",
       "3                     0          0         1                   1   \n",
       "4                     0          0         1                   1   \n",
       "\n",
       "   Indoor Games  Gas Connection  Jogging Track  Swimming Pool  \n",
       "0             0               0              0              0  \n",
       "1             0               0              1              1  \n",
       "2             0               0              1              1  \n",
       "3             0               0              0              0  \n",
       "4             0               0              0              0  "
      ]
     },
     "execution_count": 9,
     "metadata": {},
     "output_type": "execute_result"
    }
   ],
   "source": [
    "from sklearn.preprocessing import LabelEncoder\n",
    "labelencoder = LabelEncoder() # creating instance of labelencoder\n",
    "# Replacing Location with Location_encoded column \n",
    "data['Location'] = labelencoder.fit_transform(data['Location'])\n",
    "data = data.rename(columns={'Location':'Location_encoded'})\n",
    "data.head()"
   ]
  },
  {
   "cell_type": "markdown",
   "id": "72f5c342",
   "metadata": {},
   "source": [
    "## Histogram Plot to analyze data "
   ]
  },
  {
   "cell_type": "code",
   "execution_count": 10,
   "id": "dbe26b73",
   "metadata": {},
   "outputs": [
    {
     "data": {
      "text/plain": [
       "array([[<AxesSubplot:title={'center':'Price'}>,\n",
       "        <AxesSubplot:title={'center':'Area'}>,\n",
       "        <AxesSubplot:title={'center':'Location_encoded'}>,\n",
       "        <AxesSubplot:title={'center':'No. of Bedrooms'}>],\n",
       "       [<AxesSubplot:title={'center':'New/Resale'}>,\n",
       "        <AxesSubplot:title={'center':'Gymnasium'}>,\n",
       "        <AxesSubplot:title={'center':'Lift Available'}>,\n",
       "        <AxesSubplot:title={'center':'Car Parking'}>],\n",
       "       [<AxesSubplot:title={'center':'Maintenance Staff'}>,\n",
       "        <AxesSubplot:title={'center':'24x7 Security'}>,\n",
       "        <AxesSubplot:title={'center':\"Children's Play Area\"}>,\n",
       "        <AxesSubplot:title={'center':'Clubhouse'}>],\n",
       "       [<AxesSubplot:title={'center':'Intercom'}>,\n",
       "        <AxesSubplot:title={'center':'Landscaped Gardens'}>,\n",
       "        <AxesSubplot:title={'center':'Indoor Games'}>,\n",
       "        <AxesSubplot:title={'center':'Gas Connection'}>],\n",
       "       [<AxesSubplot:title={'center':'Jogging Track'}>,\n",
       "        <AxesSubplot:title={'center':'Swimming Pool'}>, <AxesSubplot:>,\n",
       "        <AxesSubplot:>]], dtype=object)"
      ]
     },
     "execution_count": 10,
     "metadata": {},
     "output_type": "execute_result"
    },
    {
     "data": {
      "image/png": "[encoded data removed]",
      "text/plain": [
       "<Figure size 1440x1080 with 20 Axes>"
      ]
     },
     "metadata": {
      "needs_background": "light"
     },
     "output_type": "display_data"
    }
   ],
   "source": [
    "%matplotlib inline\n",
    "import matplotlib.pyplot as plt\n",
    "data.hist(bins = 50, figsize = (20,15))"
   ]
  },
  {
   "cell_type": "markdown",
   "id": "3e316b54",
   "metadata": {},
   "source": [
    "## Finding Correlation of features of flat with its price"
   ]
  },
  {
   "cell_type": "markdown",
   "id": "40b52fbe",
   "metadata": {},
   "source": [
    "### The results are a pearson correlation of 72% between the price of a house and its area and 59% between the price and the number of bedrooms."
   ]
  },
  {
   "cell_type": "code",
   "execution_count": 11,
   "id": "798a6545",
   "metadata": {},
   "outputs": [
    {
     "data": {
      "text/plain": [
       "Price                   1.000000\n",
       "Area                    0.722336\n",
       "No. of Bedrooms         0.594865\n",
       "Swimming Pool           0.123902\n",
       "Indoor Games            0.122352\n",
       "Gas Connection          0.118245\n",
       "Gymnasium               0.098097\n",
       "Clubhouse               0.084775\n",
       "Lift Available          0.083656\n",
       "Landscaped Gardens      0.082225\n",
       "Intercom                0.063060\n",
       "Car Parking             0.055221\n",
       "Children's Play Area    0.045126\n",
       "24x7 Security           0.045107\n",
       "Jogging Track           0.042325\n",
       "New/Resale              0.032428\n",
       "Maintenance Staff       0.027604\n",
       "Location_encoded       -0.072550\n",
       "Name: Price, dtype: float64"
      ]
     },
     "execution_count": 11,
     "metadata": {},
     "output_type": "execute_result"
    }
   ],
   "source": [
    "corr_matrix = data.corr(method=\"pearson\")\n",
    "corr_matrix['Price'].sort_values(ascending=False)"
   ]
  },
  {
   "cell_type": "code",
   "execution_count": 12,
   "id": "3efc64e2",
   "metadata": {},
   "outputs": [
    {
     "data": {
      "text/plain": [
       "2    2601\n",
       "1    2307\n",
       "3    1201\n",
       "4     190\n",
       "5      39\n",
       "6       7\n",
       "7       2\n",
       "Name: No. of Bedrooms, dtype: int64"
      ]
     },
     "execution_count": 12,
     "metadata": {},
     "output_type": "execute_result"
    }
   ],
   "source": [
    "# It tells there are 2601 values with 2 bedroom. It give quick insights about data\n",
    "data['No. of Bedrooms'].value_counts()"
   ]
  },
  {
   "cell_type": "code",
   "execution_count": 13,
   "id": "07150f30",
   "metadata": {},
   "outputs": [
    {
     "data": {
      "text/plain": [
       "<AxesSubplot:xlabel='No. of Bedrooms', ylabel='Price'>"
      ]
     },
     "execution_count": 13,
     "metadata": {},
     "output_type": "execute_result"
    },
    {
     "data": {
      "image/png": "[encoded data removed]",
      "text/plain": [
       "<Figure size 432x288 with 1 Axes>"
      ]
     },
     "metadata": {
      "needs_background": "light"
     },
     "output_type": "display_data"
    }
   ],
   "source": [
    "data.plot(x=\"No. of Bedrooms\", y=\"Price\",kind=\"scatter\")"
   ]
  },
  {
   "cell_type": "code",
   "execution_count": 14,
   "id": "e1e6b8e6",
   "metadata": {},
   "outputs": [
    {
     "data": {
      "text/html": [
       "<div>\n",
       "<style scoped>\n",
       "    .dataframe tbody tr th:only-of-type {\n",
       "        vertical-align: middle;\n",
       "    }\n",
       "\n",
       "    .dataframe tbody tr th {\n",
       "        vertical-align: top;\n",
       "    }\n",
       "\n",
       "    .dataframe thead th {\n",
       "        text-align: right;\n",
       "    }\n",
       "</style>\n",
       "<table border=\"1\" class=\"dataframe\">\n",
       "  <thead>\n",
       "    <tr style=\"text-align: right;\">\n",
       "      <th></th>\n",
       "      <th>Price</th>\n",
       "      <th>Area</th>\n",
       "      <th>Location_encoded</th>\n",
       "      <th>No. of Bedrooms</th>\n",
       "      <th>New/Resale</th>\n",
       "      <th>Gymnasium</th>\n",
       "      <th>Lift Available</th>\n",
       "      <th>Car Parking</th>\n",
       "      <th>Maintenance Staff</th>\n",
       "      <th>24x7 Security</th>\n",
       "      <th>Children's Play Area</th>\n",
       "      <th>Clubhouse</th>\n",
       "      <th>Intercom</th>\n",
       "      <th>Landscaped Gardens</th>\n",
       "      <th>Indoor Games</th>\n",
       "      <th>Gas Connection</th>\n",
       "      <th>Jogging Track</th>\n",
       "      <th>Swimming Pool</th>\n",
       "    </tr>\n",
       "  </thead>\n",
       "  <tbody>\n",
       "    <tr>\n",
       "      <th>962</th>\n",
       "      <td>70000000</td>\n",
       "      <td>2000</td>\n",
       "      <td>399</td>\n",
       "      <td>6</td>\n",
       "      <td>0</td>\n",
       "      <td>1</td>\n",
       "      <td>1</td>\n",
       "      <td>1</td>\n",
       "      <td>1</td>\n",
       "      <td>1</td>\n",
       "      <td>0</td>\n",
       "      <td>1</td>\n",
       "      <td>0</td>\n",
       "      <td>0</td>\n",
       "      <td>0</td>\n",
       "      <td>0</td>\n",
       "      <td>0</td>\n",
       "      <td>0</td>\n",
       "    </tr>\n",
       "    <tr>\n",
       "      <th>977</th>\n",
       "      <td>50000000</td>\n",
       "      <td>7000</td>\n",
       "      <td>113</td>\n",
       "      <td>6</td>\n",
       "      <td>0</td>\n",
       "      <td>0</td>\n",
       "      <td>0</td>\n",
       "      <td>1</td>\n",
       "      <td>1</td>\n",
       "      <td>1</td>\n",
       "      <td>0</td>\n",
       "      <td>0</td>\n",
       "      <td>0</td>\n",
       "      <td>0</td>\n",
       "      <td>0</td>\n",
       "      <td>0</td>\n",
       "      <td>0</td>\n",
       "      <td>0</td>\n",
       "    </tr>\n",
       "    <tr>\n",
       "      <th>1592</th>\n",
       "      <td>25000000</td>\n",
       "      <td>2500</td>\n",
       "      <td>247</td>\n",
       "      <td>7</td>\n",
       "      <td>0</td>\n",
       "      <td>0</td>\n",
       "      <td>1</td>\n",
       "      <td>1</td>\n",
       "      <td>1</td>\n",
       "      <td>0</td>\n",
       "      <td>0</td>\n",
       "      <td>0</td>\n",
       "      <td>0</td>\n",
       "      <td>1</td>\n",
       "      <td>0</td>\n",
       "      <td>0</td>\n",
       "      <td>0</td>\n",
       "      <td>0</td>\n",
       "    </tr>\n",
       "    <tr>\n",
       "      <th>1600</th>\n",
       "      <td>120000000</td>\n",
       "      <td>3500</td>\n",
       "      <td>349</td>\n",
       "      <td>7</td>\n",
       "      <td>0</td>\n",
       "      <td>0</td>\n",
       "      <td>1</td>\n",
       "      <td>1</td>\n",
       "      <td>1</td>\n",
       "      <td>0</td>\n",
       "      <td>0</td>\n",
       "      <td>0</td>\n",
       "      <td>0</td>\n",
       "      <td>1</td>\n",
       "      <td>0</td>\n",
       "      <td>0</td>\n",
       "      <td>0</td>\n",
       "      <td>0</td>\n",
       "    </tr>\n",
       "    <tr>\n",
       "      <th>1621</th>\n",
       "      <td>260000000</td>\n",
       "      <td>5642</td>\n",
       "      <td>325</td>\n",
       "      <td>6</td>\n",
       "      <td>0</td>\n",
       "      <td>1</td>\n",
       "      <td>1</td>\n",
       "      <td>1</td>\n",
       "      <td>0</td>\n",
       "      <td>1</td>\n",
       "      <td>0</td>\n",
       "      <td>1</td>\n",
       "      <td>0</td>\n",
       "      <td>1</td>\n",
       "      <td>1</td>\n",
       "      <td>1</td>\n",
       "      <td>1</td>\n",
       "      <td>1</td>\n",
       "    </tr>\n",
       "    <tr>\n",
       "      <th>2011</th>\n",
       "      <td>65000000</td>\n",
       "      <td>2590</td>\n",
       "      <td>118</td>\n",
       "      <td>6</td>\n",
       "      <td>0</td>\n",
       "      <td>1</td>\n",
       "      <td>1</td>\n",
       "      <td>1</td>\n",
       "      <td>1</td>\n",
       "      <td>1</td>\n",
       "      <td>1</td>\n",
       "      <td>1</td>\n",
       "      <td>1</td>\n",
       "      <td>1</td>\n",
       "      <td>1</td>\n",
       "      <td>1</td>\n",
       "      <td>1</td>\n",
       "      <td>1</td>\n",
       "    </tr>\n",
       "    <tr>\n",
       "      <th>2126</th>\n",
       "      <td>77500000</td>\n",
       "      <td>3507</td>\n",
       "      <td>83</td>\n",
       "      <td>6</td>\n",
       "      <td>1</td>\n",
       "      <td>1</td>\n",
       "      <td>1</td>\n",
       "      <td>1</td>\n",
       "      <td>1</td>\n",
       "      <td>1</td>\n",
       "      <td>0</td>\n",
       "      <td>1</td>\n",
       "      <td>1</td>\n",
       "      <td>1</td>\n",
       "      <td>1</td>\n",
       "      <td>0</td>\n",
       "      <td>1</td>\n",
       "      <td>1</td>\n",
       "    </tr>\n",
       "    <tr>\n",
       "      <th>5378</th>\n",
       "      <td>50000000</td>\n",
       "      <td>2500</td>\n",
       "      <td>14</td>\n",
       "      <td>6</td>\n",
       "      <td>0</td>\n",
       "      <td>0</td>\n",
       "      <td>1</td>\n",
       "      <td>0</td>\n",
       "      <td>0</td>\n",
       "      <td>0</td>\n",
       "      <td>0</td>\n",
       "      <td>0</td>\n",
       "      <td>1</td>\n",
       "      <td>0</td>\n",
       "      <td>0</td>\n",
       "      <td>1</td>\n",
       "      <td>0</td>\n",
       "      <td>0</td>\n",
       "    </tr>\n",
       "    <tr>\n",
       "      <th>6279</th>\n",
       "      <td>79000000</td>\n",
       "      <td>3300</td>\n",
       "      <td>85</td>\n",
       "      <td>6</td>\n",
       "      <td>0</td>\n",
       "      <td>1</td>\n",
       "      <td>1</td>\n",
       "      <td>0</td>\n",
       "      <td>0</td>\n",
       "      <td>0</td>\n",
       "      <td>1</td>\n",
       "      <td>1</td>\n",
       "      <td>1</td>\n",
       "      <td>1</td>\n",
       "      <td>0</td>\n",
       "      <td>1</td>\n",
       "      <td>1</td>\n",
       "      <td>1</td>\n",
       "    </tr>\n",
       "  </tbody>\n",
       "</table>\n",
       "</div>"
      ],
      "text/plain": [
       "          Price  Area  Location_encoded  No. of Bedrooms  New/Resale  \\\n",
       "962    70000000  2000               399                6           0   \n",
       "977    50000000  7000               113                6           0   \n",
       "1592   25000000  2500               247                7           0   \n",
       "1600  120000000  3500               349                7           0   \n",
       "1621  260000000  5642               325                6           0   \n",
       "2011   65000000  2590               118                6           0   \n",
       "2126   77500000  3507                83                6           1   \n",
       "5378   50000000  2500                14                6           0   \n",
       "6279   79000000  3300                85                6           0   \n",
       "\n",
       "      Gymnasium  Lift Available  Car Parking  Maintenance Staff  \\\n",
       "962           1               1            1                  1   \n",
       "977           0               0            1                  1   \n",
       "1592          0               1            1                  1   \n",
       "1600          0               1            1                  1   \n",
       "1621          1               1            1                  0   \n",
       "2011          1               1            1                  1   \n",
       "2126          1               1            1                  1   \n",
       "5378          0               1            0                  0   \n",
       "6279          1               1            0                  0   \n",
       "\n",
       "      24x7 Security  Children's Play Area  Clubhouse  Intercom  \\\n",
       "962               1                     0          1         0   \n",
       "977               1                     0          0         0   \n",
       "1592              0                     0          0         0   \n",
       "1600              0                     0          0         0   \n",
       "1621              1                     0          1         0   \n",
       "2011              1                     1          1         1   \n",
       "2126              1                     0          1         1   \n",
       "5378              0                     0          0         1   \n",
       "6279              0                     1          1         1   \n",
       "\n",
       "      Landscaped Gardens  Indoor Games  Gas Connection  Jogging Track  \\\n",
       "962                    0             0               0              0   \n",
       "977                    0             0               0              0   \n",
       "1592                   1             0               0              0   \n",
       "1600                   1             0               0              0   \n",
       "1621                   1             1               1              1   \n",
       "2011                   1             1               1              1   \n",
       "2126                   1             1               0              1   \n",
       "5378                   0             0               1              0   \n",
       "6279                   1             0               1              1   \n",
       "\n",
       "      Swimming Pool  \n",
       "962               0  \n",
       "977               0  \n",
       "1592              0  \n",
       "1600              0  \n",
       "1621              1  \n",
       "2011              1  \n",
       "2126              1  \n",
       "5378              0  \n",
       "6279              1  "
      ]
     },
     "execution_count": 14,
     "metadata": {},
     "output_type": "execute_result"
    }
   ],
   "source": [
    "data[data[\"No. of Bedrooms\"] >= 6]"
   ]
  },
  {
   "cell_type": "markdown",
   "id": "387588cb",
   "metadata": {},
   "source": [
    "## Outliers in bedroom column"
   ]
  },
  {
   "cell_type": "code",
   "execution_count": 15,
   "id": "9d716ac8",
   "metadata": {},
   "outputs": [
    {
     "data": {
      "image/png": "[encoded data removed]",
      "text/plain": [
       "<Figure size 432x288 with 1 Axes>"
      ]
     },
     "metadata": {
      "needs_background": "light"
     },
     "output_type": "display_data"
    }
   ],
   "source": [
    "plt.boxplot(data[\"No. of Bedrooms\"])\n",
    "plt.show()"
   ]
  },
  {
   "cell_type": "code",
   "execution_count": 16,
   "id": "133146d8",
   "metadata": {},
   "outputs": [
    {
     "data": {
      "text/plain": [
       "2    2601\n",
       "1    2307\n",
       "3    1201\n",
       "4     190\n",
       "5      39\n",
       "Name: No. of Bedrooms, dtype: int64"
      ]
     },
     "execution_count": 16,
     "metadata": {},
     "output_type": "execute_result"
    }
   ],
   "source": [
    "new_data = data[data[\"No. of Bedrooms\"] <= 5]\n",
    "new_data['No. of Bedrooms'].value_counts()"
   ]
  },
  {
   "cell_type": "code",
   "execution_count": 17,
   "id": "07dd216d",
   "metadata": {},
   "outputs": [
    {
     "data": {
      "text/plain": [
       "<AxesSubplot:xlabel='Area', ylabel='Price'>"
      ]
     },
     "execution_count": 17,
     "metadata": {},
     "output_type": "execute_result"
    },
    {
     "data": {
      "image/png": "[encoded data removed]",
      "text/plain": [
       "<Figure size 432x288 with 1 Axes>"
      ]
     },
     "metadata": {
      "needs_background": "light"
     },
     "output_type": "display_data"
    }
   ],
   "source": [
    "new_data.plot(x=\"Area\", y=\"Price\",kind=\"scatter\")"
   ]
  },
  {
   "cell_type": "code",
   "execution_count": 18,
   "id": "a1f28a37",
   "metadata": {},
   "outputs": [
    {
     "data": {
      "text/plain": [
       "array([[<AxesSubplot:xlabel='Price', ylabel='Price'>,\n",
       "        <AxesSubplot:xlabel='No. of Bedrooms', ylabel='Price'>,\n",
       "        <AxesSubplot:xlabel='Area', ylabel='Price'>],\n",
       "       [<AxesSubplot:xlabel='Price', ylabel='No. of Bedrooms'>,\n",
       "        <AxesSubplot:xlabel='No. of Bedrooms', ylabel='No. of Bedrooms'>,\n",
       "        <AxesSubplot:xlabel='Area', ylabel='No. of Bedrooms'>],\n",
       "       [<AxesSubplot:xlabel='Price', ylabel='Area'>,\n",
       "        <AxesSubplot:xlabel='No. of Bedrooms', ylabel='Area'>,\n",
       "        <AxesSubplot:xlabel='Area', ylabel='Area'>]], dtype=object)"
      ]
     },
     "execution_count": 18,
     "metadata": {},
     "output_type": "execute_result"
    },
    {
     "data": {
      "image/png": "[encoded data removed]",
      "text/plain": [
       "<Figure size 1080x1080 with 9 Axes>"
      ]
     },
     "metadata": {
      "needs_background": "light"
     },
     "output_type": "display_data"
    }
   ],
   "source": [
    "from pandas.plotting import scatter_matrix\n",
    "attributes = [\"Price\", \"No. of Bedrooms\", \"Area\"]\n",
    "scatter_matrix(new_data[attributes], figsize=(15,15), alpha=1)"
   ]
  },
  {
   "cell_type": "code",
   "execution_count": 19,
   "id": "2a341ee2",
   "metadata": {},
   "outputs": [
    {
     "data": {
      "image/png": "[encoded data removed]",
      "text/plain": [
       "<Figure size 432x288 with 1 Axes>"
      ]
     },
     "metadata": {
      "needs_background": "light"
     },
     "output_type": "display_data"
    }
   ],
   "source": [
    "plt.boxplot(new_data[\"Area\"])\n",
    "plt.show()"
   ]
  },
  {
   "cell_type": "code",
   "execution_count": 20,
   "id": "4ba9c6d9",
   "metadata": {},
   "outputs": [
    {
     "data": {
      "text/html": [
       "<div>\n",
       "<style scoped>\n",
       "    .dataframe tbody tr th:only-of-type {\n",
       "        vertical-align: middle;\n",
       "    }\n",
       "\n",
       "    .dataframe tbody tr th {\n",
       "        vertical-align: top;\n",
       "    }\n",
       "\n",
       "    .dataframe thead th {\n",
       "        text-align: right;\n",
       "    }\n",
       "</style>\n",
       "<table border=\"1\" class=\"dataframe\">\n",
       "  <thead>\n",
       "    <tr style=\"text-align: right;\">\n",
       "      <th></th>\n",
       "      <th>Price</th>\n",
       "      <th>Area</th>\n",
       "      <th>Location_encoded</th>\n",
       "      <th>No. of Bedrooms</th>\n",
       "      <th>New/Resale</th>\n",
       "      <th>Gymnasium</th>\n",
       "      <th>Lift Available</th>\n",
       "      <th>Car Parking</th>\n",
       "      <th>Maintenance Staff</th>\n",
       "      <th>24x7 Security</th>\n",
       "      <th>Children's Play Area</th>\n",
       "      <th>Clubhouse</th>\n",
       "      <th>Intercom</th>\n",
       "      <th>Landscaped Gardens</th>\n",
       "      <th>Indoor Games</th>\n",
       "      <th>Gas Connection</th>\n",
       "      <th>Jogging Track</th>\n",
       "      <th>Swimming Pool</th>\n",
       "    </tr>\n",
       "  </thead>\n",
       "  <tbody>\n",
       "    <tr>\n",
       "      <th>1687</th>\n",
       "      <td>420000000</td>\n",
       "      <td>8511</td>\n",
       "      <td>387</td>\n",
       "      <td>5</td>\n",
       "      <td>0</td>\n",
       "      <td>0</td>\n",
       "      <td>1</td>\n",
       "      <td>1</td>\n",
       "      <td>1</td>\n",
       "      <td>0</td>\n",
       "      <td>0</td>\n",
       "      <td>0</td>\n",
       "      <td>0</td>\n",
       "      <td>1</td>\n",
       "      <td>0</td>\n",
       "      <td>0</td>\n",
       "      <td>0</td>\n",
       "      <td>0</td>\n",
       "    </tr>\n",
       "  </tbody>\n",
       "</table>\n",
       "</div>"
      ],
      "text/plain": [
       "          Price  Area  Location_encoded  No. of Bedrooms  New/Resale  \\\n",
       "1687  420000000  8511               387                5           0   \n",
       "\n",
       "      Gymnasium  Lift Available  Car Parking  Maintenance Staff  \\\n",
       "1687          0               1            1                  1   \n",
       "\n",
       "      24x7 Security  Children's Play Area  Clubhouse  Intercom  \\\n",
       "1687              0                     0          0         0   \n",
       "\n",
       "      Landscaped Gardens  Indoor Games  Gas Connection  Jogging Track  \\\n",
       "1687                   1             0               0              0   \n",
       "\n",
       "      Swimming Pool  \n",
       "1687              0  "
      ]
     },
     "execution_count": 20,
     "metadata": {},
     "output_type": "execute_result"
    }
   ],
   "source": [
    "new_data[new_data[\"Area\"] == 8511]"
   ]
  },
  {
   "cell_type": "code",
   "execution_count": 21,
   "id": "83bdfaaa",
   "metadata": {},
   "outputs": [
    {
     "data": {
      "text/plain": [
       "420000000"
      ]
     },
     "execution_count": 21,
     "metadata": {},
     "output_type": "execute_result"
    }
   ],
   "source": [
    "max(new_data['Price'])"
   ]
  },
  {
   "cell_type": "code",
   "execution_count": 22,
   "id": "20b269ae",
   "metadata": {},
   "outputs": [],
   "source": [
    "# # Splitting data into label and features\n",
    "# Features = new_data.iloc[:, 1:18]\n",
    "# Label = new_data.iloc[:, 0]\n",
    "# # print(Features.head())\n",
    "# print(Label.head())"
   ]
  },
  {
   "cell_type": "code",
   "execution_count": 23,
   "id": "0e1d22b1",
   "metadata": {},
   "outputs": [
    {
     "data": {
      "text/plain": [
       "Text(0.5, 1.0, 'Probplot against normal distribution')"
      ]
     },
     "execution_count": 23,
     "metadata": {},
     "output_type": "execute_result"
    },
    {
     "data": {
      "image/png": "[encoded data removed]",
      "text/plain": [
       "<Figure size 432x288 with 1 Axes>"
      ]
     },
     "metadata": {
      "needs_background": "light"
     },
     "output_type": "display_data"
    }
   ],
   "source": [
    "from scipy import stats\n",
    "fig = plt.figure()\n",
    "ax1 = fig.add_subplot(211)\n",
    "prob = stats.probplot(new_data['Price'], dist=stats.norm, plot=ax1)\n",
    "ax1.set_xlabel('')\n",
    "ax1.set_title('Probplot against normal distribution', size=20)"
   ]
  },
  {
   "cell_type": "code",
   "execution_count": 24,
   "id": "aa8a79c2",
   "metadata": {},
   "outputs": [
    {
     "data": {
      "text/plain": [
       "Text(0.5, 1.0, 'Tenth root')"
      ]
     },
     "execution_count": 24,
     "metadata": {},
     "output_type": "execute_result"
    },
    {
     "data": {
      "image/png": "[encoded data removed]",
      "text/plain": [
       "<Figure size 432x288 with 1 Axes>"
      ]
     },
     "metadata": {
      "needs_background": "light"
     },
     "output_type": "display_data"
    }
   ],
   "source": [
    "import math\n",
    "fig = plt.figure()\n",
    "ax1 = fig.add_subplot(211)\n",
    "prob = stats.probplot(new_data['Price'].transform(lambda x:x**(1/10)), dist=stats.norm, plot=ax1)\n",
    "ax1.set_xlabel('')\n",
    "ax1.set_title('Tenth root', size=20)\n",
    "# print(\"Transformation : (Label^0.25)\")"
   ]
  },
  {
   "cell_type": "code",
   "execution_count": 25,
   "id": "23f6cadc",
   "metadata": {},
   "outputs": [
    {
     "name": "stdout",
     "output_type": "stream",
     "text": [
      "Lambda =  -0.17251954882193676\n"
     ]
    },
    {
     "data": {
      "image/png": "[encoded data removed]",
      "text/plain": [
       "<Figure size 432x288 with 1 Axes>"
      ]
     },
     "metadata": {
      "needs_background": "light"
     },
     "output_type": "display_data"
    },
    {
     "data": {
      "image/png": "[encoded data removed]",
      "text/plain": [
       "<Figure size 432x288 with 1 Axes>"
      ]
     },
     "metadata": {
      "needs_background": "light"
     },
     "output_type": "display_data"
    }
   ],
   "source": [
    "fig = plt.figure()\n",
    "ax1 = fig.add_subplot(211)\n",
    "prob = stats.probplot(new_data['Price'], dist=stats.norm, plot=ax1)\n",
    "ax1.set_xlabel('')\n",
    "ax1.set_title('Probplot against normal distribution', size=20)\n",
    "\n",
    "fig = plt.figure()\n",
    "ax2 = fig.add_subplot(212)\n",
    "y, lam= stats.boxcox(new_data['Price']) #returns data,lambda\n",
    "prob = stats.probplot(y, dist=stats.norm, plot=ax2)\n",
    "ax2.set_title('Probplot after Box-Cox transformation', size=20)\n",
    "print(\"Lambda = \", lam)"
   ]
  },
  {
   "cell_type": "code",
   "execution_count": 26,
   "id": "95418a25",
   "metadata": {},
   "outputs": [
    {
     "name": "stdout",
     "output_type": "stream",
     "text": [
      "<class 'pandas.core.frame.DataFrame'>\n",
      "Int64Index: 6338 entries, 0 to 6346\n",
      "Data columns (total 19 columns):\n",
      " #   Column                Non-Null Count  Dtype  \n",
      "---  ------                --------------  -----  \n",
      " 0   Price                 6338 non-null   int64  \n",
      " 1   Area                  6338 non-null   int64  \n",
      " 2   Location_encoded      6338 non-null   int32  \n",
      " 3   No. of Bedrooms       6338 non-null   int64  \n",
      " 4   New/Resale            6338 non-null   int64  \n",
      " 5   Gymnasium             6338 non-null   int64  \n",
      " 6   Lift Available        6338 non-null   int64  \n",
      " 7   Car Parking           6338 non-null   int64  \n",
      " 8   Maintenance Staff     6338 non-null   int64  \n",
      " 9   24x7 Security         6338 non-null   int64  \n",
      " 10  Children's Play Area  6338 non-null   int64  \n",
      " 11  Clubhouse             6338 non-null   int64  \n",
      " 12  Intercom              6338 non-null   int64  \n",
      " 13  Landscaped Gardens    6338 non-null   int64  \n",
      " 14  Indoor Games          6338 non-null   int64  \n",
      " 15  Gas Connection        6338 non-null   int64  \n",
      " 16  Jogging Track         6338 non-null   int64  \n",
      " 17  Swimming Pool         6338 non-null   int64  \n",
      " 18  new_Price             6338 non-null   float64\n",
      "dtypes: float64(1), int32(1), int64(17)\n",
      "memory usage: 965.6 KB\n"
     ]
    },
    {
     "name": "stderr",
     "output_type": "stream",
     "text": [
      "C:\\Users\\Muskan Gupta\\AppData\\Local\\Temp\\ipykernel_1680\\3059550667.py:1: SettingWithCopyWarning: \n",
      "A value is trying to be set on a copy of a slice from a DataFrame.\n",
      "Try using .loc[row_indexer,col_indexer] = value instead\n",
      "\n",
      "See the caveats in the documentation: https://pandas.pydata.org/pandas-docs/stable/user_guide/indexing.html#returning-a-view-versus-a-copy\n",
      "  new_data['new_Price'] = y\n"
     ]
    }
   ],
   "source": [
    "new_data['new_Price'] = y\n",
    "new_data.info()"
   ]
  },
  {
   "cell_type": "markdown",
   "id": "f6c82878",
   "metadata": {},
   "source": [
    "### Using function from sklearn to split data into training and testing set"
   ]
  },
  {
   "cell_type": "code",
   "execution_count": 27,
   "id": "b2978a02",
   "metadata": {},
   "outputs": [
    {
     "name": "stdout",
     "output_type": "stream",
     "text": [
      "Rows in train set : 5070\n",
      "Rows in test set : 1268\n"
     ]
    }
   ],
   "source": [
    "from sklearn.model_selection import train_test_split\n",
    "train_set, test_set = train_test_split(new_data, test_size = 0.2, random_state=42)\n",
    "print(f\"Rows in train set : {len(train_set)}\\nRows in test set : {len(test_set)}\")"
   ]
  },
  {
   "cell_type": "code",
   "execution_count": 28,
   "id": "af80e41a",
   "metadata": {},
   "outputs": [
    {
     "data": {
      "text/plain": [
       "2    2058\n",
       "1    1860\n",
       "3     959\n",
       "4     160\n",
       "5      33\n",
       "Name: No. of Bedrooms, dtype: int64"
      ]
     },
     "execution_count": 28,
     "metadata": {},
     "output_type": "execute_result"
    }
   ],
   "source": [
    "train_set['No. of Bedrooms'].value_counts()"
   ]
  },
  {
   "cell_type": "code",
   "execution_count": 29,
   "id": "c0c63fb3",
   "metadata": {},
   "outputs": [
    {
     "data": {
      "text/plain": [
       "2    543\n",
       "1    447\n",
       "3    242\n",
       "4     30\n",
       "5      6\n",
       "Name: No. of Bedrooms, dtype: int64"
      ]
     },
     "execution_count": 29,
     "metadata": {},
     "output_type": "execute_result"
    }
   ],
   "source": [
    "test_set['No. of Bedrooms'].value_counts()"
   ]
  },
  {
   "cell_type": "code",
   "execution_count": 59,
   "id": "5f1f2367",
   "metadata": {},
   "outputs": [
    {
     "data": {
      "text/plain": [
       "new_Price    5.60787\n",
       "dtype: float64"
      ]
     },
     "execution_count": 59,
     "metadata": {},
     "output_type": "execute_result"
    }
   ],
   "source": [
    "Features = train_set.iloc[:,1:18]\n",
    "Label = train_set.iloc[:,18:]\n",
    "# Label.min()\n",
    "Label.max()"
   ]
  },
  {
   "cell_type": "markdown",
   "id": "d9d76610",
   "metadata": {},
   "source": [
    "## Scikit-learn Design"
   ]
  },
  {
   "cell_type": "markdown",
   "id": "d99757a8",
   "metadata": {},
   "source": [
    "Primarily, three types of objects\n",
    "1. Estimators - It estimates some parameters based on dataset (Imputer => fillna with median)\n",
    "It has fit method and transform method.\n",
    "Fit method - Fits the dataset and calculates internal parameter\n",
    "\n",
    "2. Transformers - Takes input and returns o/p based on the learnings from fit(). It also has a convenience function called fit_transform() which then transforms.\n",
    "\n",
    "3. Predictors - LinearRegression model is an eg of predictor. Fit and predict are two common functions. It also gives score() function which will evaluate the predictions"
   ]
  },
  {
   "cell_type": "markdown",
   "id": "d6732384",
   "metadata": {},
   "source": [
    "## Creating a Pipeline"
   ]
  },
  {
   "cell_type": "code",
   "execution_count": 31,
   "id": "89fe3461",
   "metadata": {},
   "outputs": [],
   "source": [
    "from sklearn.pipeline import Pipeline\n",
    "from sklearn.preprocessing import StandardScaler\n",
    "from sklearn.impute import SimpleImputer\n",
    "my_pipeline = Pipeline([\n",
    "    ('imputer', SimpleImputer(strategy='median')),\n",
    "    ('std_scaler', StandardScaler()),\n",
    "])"
   ]
  },
  {
   "cell_type": "code",
   "execution_count": 32,
   "id": "0506ad49",
   "metadata": {},
   "outputs": [
    {
     "data": {
      "text/plain": [
       "(5070, 17)"
      ]
     },
     "execution_count": 32,
     "metadata": {},
     "output_type": "execute_result"
    }
   ],
   "source": [
    "housing_features = my_pipeline.fit_transform(Features)\n",
    "housing_features.shape"
   ]
  },
  {
   "cell_type": "code",
   "execution_count": 33,
   "id": "0e2a7c00",
   "metadata": {},
   "outputs": [
    {
     "name": "stderr",
     "output_type": "stream",
     "text": [
      "C:\\Users\\Muskan Gupta\\AppData\\Local\\Temp\\ipykernel_1680\\3221854171.py:7: DataConversionWarning: A column-vector y was passed when a 1d array was expected. Please change the shape of y to (n_samples,), for example using ravel().\n",
      "  model.fit(housing_features, Label)\n"
     ]
    },
    {
     "data": {
      "text/plain": [
       "RandomForestRegressor()"
      ]
     },
     "execution_count": 33,
     "metadata": {},
     "output_type": "execute_result"
    }
   ],
   "source": [
    "from sklearn.linear_model import LinearRegression\n",
    "from sklearn.tree import DecisionTreeRegressor\n",
    "from sklearn.ensemble import RandomForestRegressor\n",
    "# model = LinearRegression()\n",
    "# model = DecisionTreeRegressor()\n",
    "model = RandomForestRegressor()\n",
    "model.fit(housing_features, Label)"
   ]
  },
  {
   "cell_type": "code",
   "execution_count": 34,
   "id": "a571b4b7",
   "metadata": {},
   "outputs": [],
   "source": [
    "some_data = Features.iloc[5:10]"
   ]
  },
  {
   "cell_type": "code",
   "execution_count": 35,
   "id": "c4c910ab",
   "metadata": {},
   "outputs": [],
   "source": [
    "some_labels = Label.iloc[5:10]"
   ]
  },
  {
   "cell_type": "code",
   "execution_count": 36,
   "id": "bf8dcb99",
   "metadata": {},
   "outputs": [],
   "source": [
    "prepared_data = my_pipeline.transform(some_data)"
   ]
  },
  {
   "cell_type": "code",
   "execution_count": 37,
   "id": "9e59c692",
   "metadata": {},
   "outputs": [
    {
     "data": {
      "text/plain": [
       "array([5.41600867, 5.37311887, 5.49605907, 5.39049551, 5.48763722])"
      ]
     },
     "execution_count": 37,
     "metadata": {},
     "output_type": "execute_result"
    }
   ],
   "source": [
    "model.predict(prepared_data)"
   ]
  },
  {
   "cell_type": "code",
   "execution_count": 56,
   "id": "84e2a464",
   "metadata": {},
   "outputs": [
    {
     "data": {
      "text/html": [
       "<div>\n",
       "<style scoped>\n",
       "    .dataframe tbody tr th:only-of-type {\n",
       "        vertical-align: middle;\n",
       "    }\n",
       "\n",
       "    .dataframe tbody tr th {\n",
       "        vertical-align: top;\n",
       "    }\n",
       "\n",
       "    .dataframe thead th {\n",
       "        text-align: right;\n",
       "    }\n",
       "</style>\n",
       "<table border=\"1\" class=\"dataframe\">\n",
       "  <thead>\n",
       "    <tr style=\"text-align: right;\">\n",
       "      <th></th>\n",
       "      <th>new_Price</th>\n",
       "    </tr>\n",
       "  </thead>\n",
       "  <tbody>\n",
       "    <tr>\n",
       "      <th>1299</th>\n",
       "      <td>5.409364</td>\n",
       "    </tr>\n",
       "    <tr>\n",
       "      <th>4614</th>\n",
       "      <td>5.369107</td>\n",
       "    </tr>\n",
       "    <tr>\n",
       "      <th>4024</th>\n",
       "      <td>5.495387</td>\n",
       "    </tr>\n",
       "    <tr>\n",
       "      <th>2998</th>\n",
       "      <td>5.406196</td>\n",
       "    </tr>\n",
       "    <tr>\n",
       "      <th>1088</th>\n",
       "      <td>5.482791</td>\n",
       "    </tr>\n",
       "  </tbody>\n",
       "</table>\n",
       "</div>"
      ],
      "text/plain": [
       "      new_Price\n",
       "1299   5.409364\n",
       "4614   5.369107\n",
       "4024   5.495387\n",
       "2998   5.406196\n",
       "1088   5.482791"
      ]
     },
     "execution_count": 56,
     "metadata": {},
     "output_type": "execute_result"
    }
   ],
   "source": [
    "some_labels"
   ]
  },
  {
   "cell_type": "code",
   "execution_count": 39,
   "id": "5eface54",
   "metadata": {},
   "outputs": [],
   "source": [
    "# from sklearn.metrics import accuracy_score\n",
    "# print(\"Accuracy : \", accuracy_score(some_labels, model.predict(prepared_data)))"
   ]
  },
  {
   "cell_type": "markdown",
   "id": "07e99827",
   "metadata": {},
   "source": [
    "## Evaluating the Model"
   ]
  },
  {
   "cell_type": "code",
   "execution_count": 40,
   "id": "97b2dde1",
   "metadata": {},
   "outputs": [
    {
     "data": {
      "text/plain": [
       "0.007414506971037153"
      ]
     },
     "execution_count": 40,
     "metadata": {},
     "output_type": "execute_result"
    }
   ],
   "source": [
    "from sklearn.metrics import mean_squared_error\n",
    "housing_predictions = model.predict(housing_features)\n",
    "lin_mse = mean_squared_error(Label, housing_predictions)\n",
    "lin_rmse = np.sqrt(lin_mse)\n",
    "lin_rmse"
   ]
  },
  {
   "cell_type": "markdown",
   "id": "e7f8719b",
   "metadata": {},
   "source": [
    "## Using better evaluation technique - Cross Validation"
   ]
  },
  {
   "cell_type": "code",
   "execution_count": 41,
   "id": "ba46f962",
   "metadata": {},
   "outputs": [
    {
     "name": "stderr",
     "output_type": "stream",
     "text": [
      "c:\\users\\muskan gupta\\appdata\\local\\programs\\python\\python38\\lib\\site-packages\\sklearn\\model_selection\\_validation.py:593: DataConversionWarning: A column-vector y was passed when a 1d array was expected. Please change the shape of y to (n_samples,), for example using ravel().\n",
      "  estimator.fit(X_train, y_train, **fit_params)\n",
      "c:\\users\\muskan gupta\\appdata\\local\\programs\\python\\python38\\lib\\site-packages\\sklearn\\model_selection\\_validation.py:593: DataConversionWarning: A column-vector y was passed when a 1d array was expected. Please change the shape of y to (n_samples,), for example using ravel().\n",
      "  estimator.fit(X_train, y_train, **fit_params)\n",
      "c:\\users\\muskan gupta\\appdata\\local\\programs\\python\\python38\\lib\\site-packages\\sklearn\\model_selection\\_validation.py:593: DataConversionWarning: A column-vector y was passed when a 1d array was expected. Please change the shape of y to (n_samples,), for example using ravel().\n",
      "  estimator.fit(X_train, y_train, **fit_params)\n",
      "c:\\users\\muskan gupta\\appdata\\local\\programs\\python\\python38\\lib\\site-packages\\sklearn\\model_selection\\_validation.py:593: DataConversionWarning: A column-vector y was passed when a 1d array was expected. Please change the shape of y to (n_samples,), for example using ravel().\n",
      "  estimator.fit(X_train, y_train, **fit_params)\n",
      "c:\\users\\muskan gupta\\appdata\\local\\programs\\python\\python38\\lib\\site-packages\\sklearn\\model_selection\\_validation.py:593: DataConversionWarning: A column-vector y was passed when a 1d array was expected. Please change the shape of y to (n_samples,), for example using ravel().\n",
      "  estimator.fit(X_train, y_train, **fit_params)\n",
      "c:\\users\\muskan gupta\\appdata\\local\\programs\\python\\python38\\lib\\site-packages\\sklearn\\model_selection\\_validation.py:593: DataConversionWarning: A column-vector y was passed when a 1d array was expected. Please change the shape of y to (n_samples,), for example using ravel().\n",
      "  estimator.fit(X_train, y_train, **fit_params)\n",
      "c:\\users\\muskan gupta\\appdata\\local\\programs\\python\\python38\\lib\\site-packages\\sklearn\\model_selection\\_validation.py:593: DataConversionWarning: A column-vector y was passed when a 1d array was expected. Please change the shape of y to (n_samples,), for example using ravel().\n",
      "  estimator.fit(X_train, y_train, **fit_params)\n",
      "c:\\users\\muskan gupta\\appdata\\local\\programs\\python\\python38\\lib\\site-packages\\sklearn\\model_selection\\_validation.py:593: DataConversionWarning: A column-vector y was passed when a 1d array was expected. Please change the shape of y to (n_samples,), for example using ravel().\n",
      "  estimator.fit(X_train, y_train, **fit_params)\n",
      "c:\\users\\muskan gupta\\appdata\\local\\programs\\python\\python38\\lib\\site-packages\\sklearn\\model_selection\\_validation.py:593: DataConversionWarning: A column-vector y was passed when a 1d array was expected. Please change the shape of y to (n_samples,), for example using ravel().\n",
      "  estimator.fit(X_train, y_train, **fit_params)\n",
      "c:\\users\\muskan gupta\\appdata\\local\\programs\\python\\python38\\lib\\site-packages\\sklearn\\model_selection\\_validation.py:593: DataConversionWarning: A column-vector y was passed when a 1d array was expected. Please change the shape of y to (n_samples,), for example using ravel().\n",
      "  estimator.fit(X_train, y_train, **fit_params)\n"
     ]
    },
    {
     "data": {
      "text/plain": [
       "array([0.020756  , 0.01922681, 0.01819216, 0.02044619, 0.01730747,\n",
       "       0.02182727, 0.01954283, 0.01969858, 0.0184228 , 0.02023544])"
      ]
     },
     "execution_count": 41,
     "metadata": {},
     "output_type": "execute_result"
    }
   ],
   "source": [
    "from sklearn.model_selection import cross_val_score\n",
    "scores = cross_val_score(model, housing_features, Label, scoring=\"neg_mean_squared_error\", cv = 10) # 10 folds\n",
    "rmse_scores = np.sqrt(-scores)\n",
    "rmse_scores"
   ]
  },
  {
   "cell_type": "code",
   "execution_count": 42,
   "id": "44208a21",
   "metadata": {},
   "outputs": [],
   "source": [
    "def print_scores(scores):\n",
    "    print(f\"Scores: {scores}\")\n",
    "    print(f\"Mean: {scores.mean()}\")\n",
    "    print(f\"Standard Deviation: {scores.std()}\")"
   ]
  },
  {
   "cell_type": "code",
   "execution_count": 43,
   "id": "db3622c0",
   "metadata": {},
   "outputs": [
    {
     "name": "stdout",
     "output_type": "stream",
     "text": [
      "Scores: [0.020756   0.01922681 0.01819216 0.02044619 0.01730747 0.02182727\n",
      " 0.01954283 0.01969858 0.0184228  0.02023544]\n",
      "Mean: 0.01956555391724584\n",
      "Standard Deviation: 0.0012720378578348103\n"
     ]
    }
   ],
   "source": [
    "print_scores(rmse_scores)"
   ]
  },
  {
   "cell_type": "markdown",
   "id": "b21a48fa",
   "metadata": {},
   "source": [
    "### Saving the Model with RandomForest Regressor"
   ]
  },
  {
   "cell_type": "code",
   "execution_count": 44,
   "id": "dcfbf499",
   "metadata": {},
   "outputs": [
    {
     "data": {
      "text/plain": [
       "['House_price.joblib']"
      ]
     },
     "execution_count": 44,
     "metadata": {},
     "output_type": "execute_result"
    }
   ],
   "source": [
    "from joblib import dump, load\n",
    "dump(model, 'House_price.joblib')"
   ]
  },
  {
   "cell_type": "markdown",
   "id": "e355cb34",
   "metadata": {},
   "source": [
    "## Testing the model on test data"
   ]
  },
  {
   "cell_type": "code",
   "execution_count": 48,
   "id": "a101cade",
   "metadata": {},
   "outputs": [],
   "source": [
    "test_Features = test_set.iloc[:,1:18]\n",
    "test_Label = test_set.iloc[:,18:]\n",
    "test_Features_prepared = my_pipeline.transform(test_Features)"
   ]
  },
  {
   "cell_type": "code",
   "execution_count": 49,
   "id": "008041c1",
   "metadata": {},
   "outputs": [
    {
     "data": {
      "text/plain": [
       "0.03064561256587593"
      ]
     },
     "execution_count": 49,
     "metadata": {},
     "output_type": "execute_result"
    }
   ],
   "source": [
    "final_predictions = model.predict(test_Features_prepared)\n",
    "final_mse = mean_squared_error(test_Label, final_predictions)\n",
    "final_rmse = np.sqrt(final_mse)\n",
    "final_rmse"
   ]
  },
  {
   "cell_type": "code",
   "execution_count": 50,
   "id": "4da0c018",
   "metadata": {},
   "outputs": [
    {
     "data": {
      "text/plain": [
       "array([5.39613372, 5.39736949, 5.42229417, ..., 5.34375934, 5.45202306,\n",
       "       5.44297568])"
      ]
     },
     "execution_count": 50,
     "metadata": {},
     "output_type": "execute_result"
    }
   ],
   "source": [
    "final_predictions"
   ]
  },
  {
   "cell_type": "code",
   "execution_count": 51,
   "id": "17917ae7",
   "metadata": {},
   "outputs": [
    {
     "data": {
      "text/html": [
       "<div>\n",
       "<style scoped>\n",
       "    .dataframe tbody tr th:only-of-type {\n",
       "        vertical-align: middle;\n",
       "    }\n",
       "\n",
       "    .dataframe tbody tr th {\n",
       "        vertical-align: top;\n",
       "    }\n",
       "\n",
       "    .dataframe thead th {\n",
       "        text-align: right;\n",
       "    }\n",
       "</style>\n",
       "<table border=\"1\" class=\"dataframe\">\n",
       "  <thead>\n",
       "    <tr style=\"text-align: right;\">\n",
       "      <th></th>\n",
       "      <th>new_Price</th>\n",
       "    </tr>\n",
       "  </thead>\n",
       "  <tbody>\n",
       "    <tr>\n",
       "      <th>3879</th>\n",
       "      <td>5.384012</td>\n",
       "    </tr>\n",
       "    <tr>\n",
       "      <th>746</th>\n",
       "      <td>5.391441</td>\n",
       "    </tr>\n",
       "    <tr>\n",
       "      <th>3283</th>\n",
       "      <td>5.408328</td>\n",
       "    </tr>\n",
       "    <tr>\n",
       "      <th>4895</th>\n",
       "      <td>5.388579</td>\n",
       "    </tr>\n",
       "    <tr>\n",
       "      <th>6344</th>\n",
       "      <td>5.459401</td>\n",
       "    </tr>\n",
       "    <tr>\n",
       "      <th>...</th>\n",
       "      <td>...</td>\n",
       "    </tr>\n",
       "    <tr>\n",
       "      <th>5191</th>\n",
       "      <td>5.468525</td>\n",
       "    </tr>\n",
       "    <tr>\n",
       "      <th>57</th>\n",
       "      <td>5.380765</td>\n",
       "    </tr>\n",
       "    <tr>\n",
       "      <th>3592</th>\n",
       "      <td>5.435834</td>\n",
       "    </tr>\n",
       "    <tr>\n",
       "      <th>4532</th>\n",
       "      <td>5.455220</td>\n",
       "    </tr>\n",
       "    <tr>\n",
       "      <th>292</th>\n",
       "      <td>5.431882</td>\n",
       "    </tr>\n",
       "  </tbody>\n",
       "</table>\n",
       "<p>1268 rows × 1 columns</p>\n",
       "</div>"
      ],
      "text/plain": [
       "      new_Price\n",
       "3879   5.384012\n",
       "746    5.391441\n",
       "3283   5.408328\n",
       "4895   5.388579\n",
       "6344   5.459401\n",
       "...         ...\n",
       "5191   5.468525\n",
       "57     5.380765\n",
       "3592   5.435834\n",
       "4532   5.455220\n",
       "292    5.431882\n",
       "\n",
       "[1268 rows x 1 columns]"
      ]
     },
     "execution_count": 51,
     "metadata": {},
     "output_type": "execute_result"
    }
   ],
   "source": [
    "test_Label"
   ]
  },
  {
   "cell_type": "code",
   "execution_count": null,
   "id": "3d9edd08",
   "metadata": {},
   "outputs": [],
   "source": []
  }
 ],
 "metadata": {
  "kernelspec": {
   "display_name": "Python 3 (ipykernel)",
   "language": "python",
   "name": "python3"
  },
  "language_info": {
   "codemirror_mode": {
    "name": "ipython",
    "version": 3
   },
   "file_extension": ".py",
   "mimetype": "text/x-python",
   "name": "python",
   "nbconvert_exporter": "python",
   "pygments_lexer": "ipython3",
   "version": "3.10.2"
  }
 },
 "nbformat": 4,
 "nbformat_minor": 5
}
