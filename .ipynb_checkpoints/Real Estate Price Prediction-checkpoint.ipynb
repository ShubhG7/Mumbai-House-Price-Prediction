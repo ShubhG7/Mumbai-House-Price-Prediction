{
 "cells": [
  {
   "cell_type": "markdown",
   "id": "7962f432",
   "metadata": {},
   "source": [
    "# Real Estate Sell Price Prediction "
   ]
  },
  {
   "cell_type": "markdown",
   "id": "69194718",
   "metadata": {},
   "source": [
    "## Data set - https://www.kaggle.com/datasets/sameep98/housing-prices-in-mumbai"
   ]
  },
  {
   "cell_type": "code",
   "execution_count": 1,
   "id": "3b243a7c",
   "metadata": {},
   "outputs": [],
   "source": [
    "import pandas as pd\n",
    "import numpy as np"
   ]
  },
  {
   "cell_type": "code",
   "execution_count": 2,
   "id": "556a91ee",
   "metadata": {},
   "outputs": [
    {
     "data": {
      "text/html": [
       "<div>\n",
       "<style scoped>\n",
       "    .dataframe tbody tr th:only-of-type {\n",
       "        vertical-align: middle;\n",
       "    }\n",
       "\n",
       "    .dataframe tbody tr th {\n",
       "        vertical-align: top;\n",
       "    }\n",
       "\n",
       "    .dataframe thead th {\n",
       "        text-align: right;\n",
       "    }\n",
       "</style>\n",
       "<table border=\"1\" class=\"dataframe\">\n",
       "  <thead>\n",
       "    <tr style=\"text-align: right;\">\n",
       "      <th></th>\n",
       "      <th>Unnamed: 0</th>\n",
       "      <th>Price</th>\n",
       "      <th>Area</th>\n",
       "      <th>Location</th>\n",
       "      <th>No. of Bedrooms</th>\n",
       "      <th>New/Resale</th>\n",
       "      <th>Gymnasium</th>\n",
       "      <th>Lift Available</th>\n",
       "      <th>Car Parking</th>\n",
       "      <th>Maintenance Staff</th>\n",
       "      <th>24x7 Security</th>\n",
       "      <th>Children's Play Area</th>\n",
       "      <th>Clubhouse</th>\n",
       "      <th>Intercom</th>\n",
       "      <th>Landscaped Gardens</th>\n",
       "      <th>Indoor Games</th>\n",
       "      <th>Gas Connection</th>\n",
       "      <th>Jogging Track</th>\n",
       "      <th>Swimming Pool</th>\n",
       "    </tr>\n",
       "  </thead>\n",
       "  <tbody>\n",
       "    <tr>\n",
       "      <th>0</th>\n",
       "      <td>0</td>\n",
       "      <td>4850000</td>\n",
       "      <td>720</td>\n",
       "      <td>Kharghar</td>\n",
       "      <td>1</td>\n",
       "      <td>0</td>\n",
       "      <td>0</td>\n",
       "      <td>1</td>\n",
       "      <td>1</td>\n",
       "      <td>1</td>\n",
       "      <td>1</td>\n",
       "      <td>0</td>\n",
       "      <td>0</td>\n",
       "      <td>0</td>\n",
       "      <td>0</td>\n",
       "      <td>0</td>\n",
       "      <td>0</td>\n",
       "      <td>0</td>\n",
       "      <td>0</td>\n",
       "    </tr>\n",
       "    <tr>\n",
       "      <th>1</th>\n",
       "      <td>1</td>\n",
       "      <td>4500000</td>\n",
       "      <td>600</td>\n",
       "      <td>Kharghar</td>\n",
       "      <td>1</td>\n",
       "      <td>0</td>\n",
       "      <td>1</td>\n",
       "      <td>1</td>\n",
       "      <td>1</td>\n",
       "      <td>1</td>\n",
       "      <td>1</td>\n",
       "      <td>0</td>\n",
       "      <td>1</td>\n",
       "      <td>0</td>\n",
       "      <td>0</td>\n",
       "      <td>0</td>\n",
       "      <td>0</td>\n",
       "      <td>1</td>\n",
       "      <td>1</td>\n",
       "    </tr>\n",
       "    <tr>\n",
       "      <th>2</th>\n",
       "      <td>2</td>\n",
       "      <td>6700000</td>\n",
       "      <td>650</td>\n",
       "      <td>Kharghar</td>\n",
       "      <td>1</td>\n",
       "      <td>0</td>\n",
       "      <td>1</td>\n",
       "      <td>1</td>\n",
       "      <td>1</td>\n",
       "      <td>1</td>\n",
       "      <td>1</td>\n",
       "      <td>1</td>\n",
       "      <td>1</td>\n",
       "      <td>1</td>\n",
       "      <td>0</td>\n",
       "      <td>0</td>\n",
       "      <td>0</td>\n",
       "      <td>1</td>\n",
       "      <td>1</td>\n",
       "    </tr>\n",
       "    <tr>\n",
       "      <th>3</th>\n",
       "      <td>3</td>\n",
       "      <td>4500000</td>\n",
       "      <td>650</td>\n",
       "      <td>Kharghar</td>\n",
       "      <td>1</td>\n",
       "      <td>0</td>\n",
       "      <td>0</td>\n",
       "      <td>1</td>\n",
       "      <td>1</td>\n",
       "      <td>1</td>\n",
       "      <td>1</td>\n",
       "      <td>0</td>\n",
       "      <td>0</td>\n",
       "      <td>1</td>\n",
       "      <td>1</td>\n",
       "      <td>0</td>\n",
       "      <td>0</td>\n",
       "      <td>0</td>\n",
       "      <td>0</td>\n",
       "    </tr>\n",
       "    <tr>\n",
       "      <th>4</th>\n",
       "      <td>4</td>\n",
       "      <td>5000000</td>\n",
       "      <td>665</td>\n",
       "      <td>Kharghar</td>\n",
       "      <td>1</td>\n",
       "      <td>0</td>\n",
       "      <td>0</td>\n",
       "      <td>1</td>\n",
       "      <td>1</td>\n",
       "      <td>1</td>\n",
       "      <td>1</td>\n",
       "      <td>0</td>\n",
       "      <td>0</td>\n",
       "      <td>1</td>\n",
       "      <td>1</td>\n",
       "      <td>0</td>\n",
       "      <td>0</td>\n",
       "      <td>0</td>\n",
       "      <td>0</td>\n",
       "    </tr>\n",
       "  </tbody>\n",
       "</table>\n",
       "</div>"
      ],
      "text/plain": [
       "   Unnamed: 0    Price  Area  Location  No. of Bedrooms  New/Resale  \\\n",
       "0           0  4850000   720  Kharghar                1           0   \n",
       "1           1  4500000   600  Kharghar                1           0   \n",
       "2           2  6700000   650  Kharghar                1           0   \n",
       "3           3  4500000   650  Kharghar                1           0   \n",
       "4           4  5000000   665  Kharghar                1           0   \n",
       "\n",
       "   Gymnasium  Lift Available  Car Parking  Maintenance Staff  24x7 Security  \\\n",
       "0          0               1            1                  1              1   \n",
       "1          1               1            1                  1              1   \n",
       "2          1               1            1                  1              1   \n",
       "3          0               1            1                  1              1   \n",
       "4          0               1            1                  1              1   \n",
       "\n",
       "   Children's Play Area  Clubhouse  Intercom  Landscaped Gardens  \\\n",
       "0                     0          0         0                   0   \n",
       "1                     0          1         0                   0   \n",
       "2                     1          1         1                   0   \n",
       "3                     0          0         1                   1   \n",
       "4                     0          0         1                   1   \n",
       "\n",
       "   Indoor Games  Gas Connection  Jogging Track  Swimming Pool  \n",
       "0             0               0              0              0  \n",
       "1             0               0              1              1  \n",
       "2             0               0              1              1  \n",
       "3             0               0              0              0  \n",
       "4             0               0              0              0  "
      ]
     },
     "execution_count": 2,
     "metadata": {},
     "output_type": "execute_result"
    }
   ],
   "source": [
    "df = pd.read_csv(\"Mumbai1.csv\")\n",
    "df.head()"
   ]
  },
  {
   "cell_type": "code",
   "execution_count": 3,
   "id": "55851815",
   "metadata": {},
   "outputs": [
    {
     "data": {
      "text/html": [
       "<div>\n",
       "<style scoped>\n",
       "    .dataframe tbody tr th:only-of-type {\n",
       "        vertical-align: middle;\n",
       "    }\n",
       "\n",
       "    .dataframe tbody tr th {\n",
       "        vertical-align: top;\n",
       "    }\n",
       "\n",
       "    .dataframe thead th {\n",
       "        text-align: right;\n",
       "    }\n",
       "</style>\n",
       "<table border=\"1\" class=\"dataframe\">\n",
       "  <thead>\n",
       "    <tr style=\"text-align: right;\">\n",
       "      <th></th>\n",
       "      <th>Unnamed: 0</th>\n",
       "      <th>Price</th>\n",
       "      <th>Area</th>\n",
       "      <th>No. of Bedrooms</th>\n",
       "      <th>New/Resale</th>\n",
       "      <th>Gymnasium</th>\n",
       "      <th>Lift Available</th>\n",
       "      <th>Car Parking</th>\n",
       "      <th>Maintenance Staff</th>\n",
       "      <th>24x7 Security</th>\n",
       "      <th>Children's Play Area</th>\n",
       "      <th>Clubhouse</th>\n",
       "      <th>Intercom</th>\n",
       "      <th>Landscaped Gardens</th>\n",
       "      <th>Indoor Games</th>\n",
       "      <th>Gas Connection</th>\n",
       "      <th>Jogging Track</th>\n",
       "      <th>Swimming Pool</th>\n",
       "    </tr>\n",
       "  </thead>\n",
       "  <tbody>\n",
       "    <tr>\n",
       "      <th>count</th>\n",
       "      <td>6347.000000</td>\n",
       "      <td>6.347000e+03</td>\n",
       "      <td>6347.000000</td>\n",
       "      <td>6347.000000</td>\n",
       "      <td>6347.000000</td>\n",
       "      <td>6347.000000</td>\n",
       "      <td>6347.000000</td>\n",
       "      <td>6347.000000</td>\n",
       "      <td>6347.000000</td>\n",
       "      <td>6347.000000</td>\n",
       "      <td>6347.000000</td>\n",
       "      <td>6347.000000</td>\n",
       "      <td>6347.000000</td>\n",
       "      <td>6347.000000</td>\n",
       "      <td>6347.000000</td>\n",
       "      <td>6347.000000</td>\n",
       "      <td>6347.000000</td>\n",
       "      <td>6347.000000</td>\n",
       "    </tr>\n",
       "    <tr>\n",
       "      <th>mean</th>\n",
       "      <td>3173.000000</td>\n",
       "      <td>1.515401e+07</td>\n",
       "      <td>1004.327084</td>\n",
       "      <td>1.910036</td>\n",
       "      <td>0.341736</td>\n",
       "      <td>0.581377</td>\n",
       "      <td>0.801481</td>\n",
       "      <td>0.562943</td>\n",
       "      <td>0.281393</td>\n",
       "      <td>0.562943</td>\n",
       "      <td>0.559319</td>\n",
       "      <td>0.496297</td>\n",
       "      <td>0.484796</td>\n",
       "      <td>0.360643</td>\n",
       "      <td>0.219631</td>\n",
       "      <td>0.243107</td>\n",
       "      <td>0.381440</td>\n",
       "      <td>0.458327</td>\n",
       "    </tr>\n",
       "    <tr>\n",
       "      <th>std</th>\n",
       "      <td>1832.365411</td>\n",
       "      <td>2.015943e+07</td>\n",
       "      <td>556.375703</td>\n",
       "      <td>0.863304</td>\n",
       "      <td>0.474329</td>\n",
       "      <td>0.493372</td>\n",
       "      <td>0.398916</td>\n",
       "      <td>0.496061</td>\n",
       "      <td>0.449714</td>\n",
       "      <td>0.496061</td>\n",
       "      <td>0.496508</td>\n",
       "      <td>0.500026</td>\n",
       "      <td>0.499808</td>\n",
       "      <td>0.480225</td>\n",
       "      <td>0.414029</td>\n",
       "      <td>0.428993</td>\n",
       "      <td>0.485778</td>\n",
       "      <td>0.498300</td>\n",
       "    </tr>\n",
       "    <tr>\n",
       "      <th>min</th>\n",
       "      <td>0.000000</td>\n",
       "      <td>2.000000e+06</td>\n",
       "      <td>200.000000</td>\n",
       "      <td>1.000000</td>\n",
       "      <td>0.000000</td>\n",
       "      <td>0.000000</td>\n",
       "      <td>0.000000</td>\n",
       "      <td>0.000000</td>\n",
       "      <td>0.000000</td>\n",
       "      <td>0.000000</td>\n",
       "      <td>0.000000</td>\n",
       "      <td>0.000000</td>\n",
       "      <td>0.000000</td>\n",
       "      <td>0.000000</td>\n",
       "      <td>0.000000</td>\n",
       "      <td>0.000000</td>\n",
       "      <td>0.000000</td>\n",
       "      <td>0.000000</td>\n",
       "    </tr>\n",
       "    <tr>\n",
       "      <th>25%</th>\n",
       "      <td>1586.500000</td>\n",
       "      <td>5.300000e+06</td>\n",
       "      <td>650.000000</td>\n",
       "      <td>1.000000</td>\n",
       "      <td>0.000000</td>\n",
       "      <td>0.000000</td>\n",
       "      <td>1.000000</td>\n",
       "      <td>0.000000</td>\n",
       "      <td>0.000000</td>\n",
       "      <td>0.000000</td>\n",
       "      <td>0.000000</td>\n",
       "      <td>0.000000</td>\n",
       "      <td>0.000000</td>\n",
       "      <td>0.000000</td>\n",
       "      <td>0.000000</td>\n",
       "      <td>0.000000</td>\n",
       "      <td>0.000000</td>\n",
       "      <td>0.000000</td>\n",
       "    </tr>\n",
       "    <tr>\n",
       "      <th>50%</th>\n",
       "      <td>3173.000000</td>\n",
       "      <td>9.500000e+06</td>\n",
       "      <td>905.000000</td>\n",
       "      <td>2.000000</td>\n",
       "      <td>0.000000</td>\n",
       "      <td>1.000000</td>\n",
       "      <td>1.000000</td>\n",
       "      <td>1.000000</td>\n",
       "      <td>0.000000</td>\n",
       "      <td>1.000000</td>\n",
       "      <td>1.000000</td>\n",
       "      <td>0.000000</td>\n",
       "      <td>0.000000</td>\n",
       "      <td>0.000000</td>\n",
       "      <td>0.000000</td>\n",
       "      <td>0.000000</td>\n",
       "      <td>0.000000</td>\n",
       "      <td>0.000000</td>\n",
       "    </tr>\n",
       "    <tr>\n",
       "      <th>75%</th>\n",
       "      <td>4759.500000</td>\n",
       "      <td>1.750000e+07</td>\n",
       "      <td>1182.000000</td>\n",
       "      <td>2.000000</td>\n",
       "      <td>1.000000</td>\n",
       "      <td>1.000000</td>\n",
       "      <td>1.000000</td>\n",
       "      <td>1.000000</td>\n",
       "      <td>1.000000</td>\n",
       "      <td>1.000000</td>\n",
       "      <td>1.000000</td>\n",
       "      <td>1.000000</td>\n",
       "      <td>1.000000</td>\n",
       "      <td>1.000000</td>\n",
       "      <td>0.000000</td>\n",
       "      <td>0.000000</td>\n",
       "      <td>1.000000</td>\n",
       "      <td>1.000000</td>\n",
       "    </tr>\n",
       "    <tr>\n",
       "      <th>max</th>\n",
       "      <td>6346.000000</td>\n",
       "      <td>4.200000e+08</td>\n",
       "      <td>8511.000000</td>\n",
       "      <td>7.000000</td>\n",
       "      <td>1.000000</td>\n",
       "      <td>1.000000</td>\n",
       "      <td>1.000000</td>\n",
       "      <td>1.000000</td>\n",
       "      <td>1.000000</td>\n",
       "      <td>1.000000</td>\n",
       "      <td>1.000000</td>\n",
       "      <td>1.000000</td>\n",
       "      <td>1.000000</td>\n",
       "      <td>1.000000</td>\n",
       "      <td>1.000000</td>\n",
       "      <td>1.000000</td>\n",
       "      <td>1.000000</td>\n",
       "      <td>1.000000</td>\n",
       "    </tr>\n",
       "  </tbody>\n",
       "</table>\n",
       "</div>"
      ],
      "text/plain": [
       "        Unnamed: 0         Price         Area  No. of Bedrooms   New/Resale  \\\n",
       "count  6347.000000  6.347000e+03  6347.000000      6347.000000  6347.000000   \n",
       "mean   3173.000000  1.515401e+07  1004.327084         1.910036     0.341736   \n",
       "std    1832.365411  2.015943e+07   556.375703         0.863304     0.474329   \n",
       "min       0.000000  2.000000e+06   200.000000         1.000000     0.000000   \n",
       "25%    1586.500000  5.300000e+06   650.000000         1.000000     0.000000   \n",
       "50%    3173.000000  9.500000e+06   905.000000         2.000000     0.000000   \n",
       "75%    4759.500000  1.750000e+07  1182.000000         2.000000     1.000000   \n",
       "max    6346.000000  4.200000e+08  8511.000000         7.000000     1.000000   \n",
       "\n",
       "         Gymnasium  Lift Available  Car Parking  Maintenance Staff  \\\n",
       "count  6347.000000     6347.000000  6347.000000        6347.000000   \n",
       "mean      0.581377        0.801481     0.562943           0.281393   \n",
       "std       0.493372        0.398916     0.496061           0.449714   \n",
       "min       0.000000        0.000000     0.000000           0.000000   \n",
       "25%       0.000000        1.000000     0.000000           0.000000   \n",
       "50%       1.000000        1.000000     1.000000           0.000000   \n",
       "75%       1.000000        1.000000     1.000000           1.000000   \n",
       "max       1.000000        1.000000     1.000000           1.000000   \n",
       "\n",
       "       24x7 Security  Children's Play Area    Clubhouse     Intercom  \\\n",
       "count    6347.000000           6347.000000  6347.000000  6347.000000   \n",
       "mean        0.562943              0.559319     0.496297     0.484796   \n",
       "std         0.496061              0.496508     0.500026     0.499808   \n",
       "min         0.000000              0.000000     0.000000     0.000000   \n",
       "25%         0.000000              0.000000     0.000000     0.000000   \n",
       "50%         1.000000              1.000000     0.000000     0.000000   \n",
       "75%         1.000000              1.000000     1.000000     1.000000   \n",
       "max         1.000000              1.000000     1.000000     1.000000   \n",
       "\n",
       "       Landscaped Gardens  Indoor Games  Gas Connection  Jogging Track  \\\n",
       "count         6347.000000   6347.000000     6347.000000    6347.000000   \n",
       "mean             0.360643      0.219631        0.243107       0.381440   \n",
       "std              0.480225      0.414029        0.428993       0.485778   \n",
       "min              0.000000      0.000000        0.000000       0.000000   \n",
       "25%              0.000000      0.000000        0.000000       0.000000   \n",
       "50%              0.000000      0.000000        0.000000       0.000000   \n",
       "75%              1.000000      0.000000        0.000000       1.000000   \n",
       "max              1.000000      1.000000        1.000000       1.000000   \n",
       "\n",
       "       Swimming Pool  \n",
       "count    6347.000000  \n",
       "mean        0.458327  \n",
       "std         0.498300  \n",
       "min         0.000000  \n",
       "25%         0.000000  \n",
       "50%         0.000000  \n",
       "75%         1.000000  \n",
       "max         1.000000  "
      ]
     },
     "execution_count": 3,
     "metadata": {},
     "output_type": "execute_result"
    }
   ],
   "source": [
    "# It ignores null values\n",
    "df.describe()"
   ]
  },
  {
   "cell_type": "code",
   "execution_count": 4,
   "id": "0d1f383b",
   "metadata": {},
   "outputs": [
    {
     "name": "stdout",
     "output_type": "stream",
     "text": [
      "<class 'pandas.core.frame.DataFrame'>\n",
      "RangeIndex: 6347 entries, 0 to 6346\n",
      "Data columns (total 19 columns):\n",
      " #   Column                Non-Null Count  Dtype \n",
      "---  ------                --------------  ----- \n",
      " 0   Unnamed: 0            6347 non-null   int64 \n",
      " 1   Price                 6347 non-null   int64 \n",
      " 2   Area                  6347 non-null   int64 \n",
      " 3   Location              6347 non-null   object\n",
      " 4   No. of Bedrooms       6347 non-null   int64 \n",
      " 5   New/Resale            6347 non-null   int64 \n",
      " 6   Gymnasium             6347 non-null   int64 \n",
      " 7   Lift Available        6347 non-null   int64 \n",
      " 8   Car Parking           6347 non-null   int64 \n",
      " 9   Maintenance Staff     6347 non-null   int64 \n",
      " 10  24x7 Security         6347 non-null   int64 \n",
      " 11  Children's Play Area  6347 non-null   int64 \n",
      " 12  Clubhouse             6347 non-null   int64 \n",
      " 13  Intercom              6347 non-null   int64 \n",
      " 14  Landscaped Gardens    6347 non-null   int64 \n",
      " 15  Indoor Games          6347 non-null   int64 \n",
      " 16  Gas Connection        6347 non-null   int64 \n",
      " 17  Jogging Track         6347 non-null   int64 \n",
      " 18  Swimming Pool         6347 non-null   int64 \n",
      "dtypes: int64(18), object(1)\n",
      "memory usage: 942.3+ KB\n"
     ]
    }
   ],
   "source": [
    "df.info()"
   ]
  },
  {
   "cell_type": "markdown",
   "id": "3516ab51",
   "metadata": {},
   "source": [
    "## Total 6347 rows and 19 columns"
   ]
  },
  {
   "cell_type": "code",
   "execution_count": 5,
   "id": "eaea046a",
   "metadata": {},
   "outputs": [
    {
     "data": {
      "text/plain": [
       "(6347, 19)"
      ]
     },
     "execution_count": 5,
     "metadata": {},
     "output_type": "execute_result"
    }
   ],
   "source": [
    "df.shape"
   ]
  },
  {
   "cell_type": "markdown",
   "id": "ce7cb8b5",
   "metadata": {},
   "source": [
    "## Total 413 unique locations and we are encoding them as numeric values"
   ]
  },
  {
   "cell_type": "code",
   "execution_count": 6,
   "id": "92b0767c",
   "metadata": {},
   "outputs": [
    {
     "name": "stdout",
     "output_type": "stream",
     "text": [
      "413\n"
     ]
    }
   ],
   "source": [
    "# print(df.Location.unique())\n",
    "print(len(df.Location.unique()))"
   ]
  },
  {
   "cell_type": "code",
   "execution_count": 48,
   "id": "ce1340a2",
   "metadata": {},
   "outputs": [],
   "source": [
    "# location_arr = df.Location.unique()\n",
    "# location_arr.sort()\n",
    "# location_arr"
   ]
  },
  {
   "cell_type": "code",
   "execution_count": 8,
   "id": "999a0757",
   "metadata": {},
   "outputs": [
    {
     "name": "stdout",
     "output_type": "stream",
     "text": [
      "413\n"
     ]
    }
   ],
   "source": [
    "print(len(location_arr))"
   ]
  },
  {
   "cell_type": "markdown",
   "id": "09c9be07",
   "metadata": {},
   "source": [
    "#### Few algorithms such as CATBOAST, decision-trees can handle categorical values very well but most of the algorithms expect numerical values to achieve state-of-the-art results. Here, Location is a categorial value"
   ]
  },
  {
   "cell_type": "code",
   "execution_count": 9,
   "id": "deaee9da",
   "metadata": {},
   "outputs": [],
   "source": [
    "from sklearn.preprocessing import LabelEncoder"
   ]
  },
  {
   "cell_type": "code",
   "execution_count": 10,
   "id": "d7bfc684",
   "metadata": {},
   "outputs": [],
   "source": [
    "# creating instance of labelencoder\n",
    "labelencoder = LabelEncoder()"
   ]
  },
  {
   "cell_type": "code",
   "execution_count": 11,
   "id": "bdf5c8a8",
   "metadata": {},
   "outputs": [],
   "source": [
    "# Creating copy of original dataset\n",
    "data_with_Location_encoding = df.copy()\n",
    "data_with_Location_encoding.drop([\"Unnamed: 0\"], axis=1, inplace=True)"
   ]
  },
  {
   "cell_type": "code",
   "execution_count": 12,
   "id": "392886be",
   "metadata": {},
   "outputs": [
    {
     "data": {
      "text/html": [
       "<div>\n",
       "<style scoped>\n",
       "    .dataframe tbody tr th:only-of-type {\n",
       "        vertical-align: middle;\n",
       "    }\n",
       "\n",
       "    .dataframe tbody tr th {\n",
       "        vertical-align: top;\n",
       "    }\n",
       "\n",
       "    .dataframe thead th {\n",
       "        text-align: right;\n",
       "    }\n",
       "</style>\n",
       "<table border=\"1\" class=\"dataframe\">\n",
       "  <thead>\n",
       "    <tr style=\"text-align: right;\">\n",
       "      <th></th>\n",
       "      <th>Price</th>\n",
       "      <th>Area</th>\n",
       "      <th>Location</th>\n",
       "      <th>No. of Bedrooms</th>\n",
       "      <th>New/Resale</th>\n",
       "      <th>Gymnasium</th>\n",
       "      <th>Lift Available</th>\n",
       "      <th>Car Parking</th>\n",
       "      <th>Maintenance Staff</th>\n",
       "      <th>24x7 Security</th>\n",
       "      <th>Children's Play Area</th>\n",
       "      <th>Clubhouse</th>\n",
       "      <th>Intercom</th>\n",
       "      <th>Landscaped Gardens</th>\n",
       "      <th>Indoor Games</th>\n",
       "      <th>Gas Connection</th>\n",
       "      <th>Jogging Track</th>\n",
       "      <th>Swimming Pool</th>\n",
       "      <th>Location_encoding</th>\n",
       "    </tr>\n",
       "  </thead>\n",
       "  <tbody>\n",
       "    <tr>\n",
       "      <th>0</th>\n",
       "      <td>4850000</td>\n",
       "      <td>720</td>\n",
       "      <td>Kharghar</td>\n",
       "      <td>1</td>\n",
       "      <td>0</td>\n",
       "      <td>0</td>\n",
       "      <td>1</td>\n",
       "      <td>1</td>\n",
       "      <td>1</td>\n",
       "      <td>1</td>\n",
       "      <td>0</td>\n",
       "      <td>0</td>\n",
       "      <td>0</td>\n",
       "      <td>0</td>\n",
       "      <td>0</td>\n",
       "      <td>0</td>\n",
       "      <td>0</td>\n",
       "      <td>0</td>\n",
       "      <td>136</td>\n",
       "    </tr>\n",
       "    <tr>\n",
       "      <th>1</th>\n",
       "      <td>4500000</td>\n",
       "      <td>600</td>\n",
       "      <td>Kharghar</td>\n",
       "      <td>1</td>\n",
       "      <td>0</td>\n",
       "      <td>1</td>\n",
       "      <td>1</td>\n",
       "      <td>1</td>\n",
       "      <td>1</td>\n",
       "      <td>1</td>\n",
       "      <td>0</td>\n",
       "      <td>1</td>\n",
       "      <td>0</td>\n",
       "      <td>0</td>\n",
       "      <td>0</td>\n",
       "      <td>0</td>\n",
       "      <td>1</td>\n",
       "      <td>1</td>\n",
       "      <td>136</td>\n",
       "    </tr>\n",
       "    <tr>\n",
       "      <th>2</th>\n",
       "      <td>6700000</td>\n",
       "      <td>650</td>\n",
       "      <td>Kharghar</td>\n",
       "      <td>1</td>\n",
       "      <td>0</td>\n",
       "      <td>1</td>\n",
       "      <td>1</td>\n",
       "      <td>1</td>\n",
       "      <td>1</td>\n",
       "      <td>1</td>\n",
       "      <td>1</td>\n",
       "      <td>1</td>\n",
       "      <td>1</td>\n",
       "      <td>0</td>\n",
       "      <td>0</td>\n",
       "      <td>0</td>\n",
       "      <td>1</td>\n",
       "      <td>1</td>\n",
       "      <td>136</td>\n",
       "    </tr>\n",
       "    <tr>\n",
       "      <th>3</th>\n",
       "      <td>4500000</td>\n",
       "      <td>650</td>\n",
       "      <td>Kharghar</td>\n",
       "      <td>1</td>\n",
       "      <td>0</td>\n",
       "      <td>0</td>\n",
       "      <td>1</td>\n",
       "      <td>1</td>\n",
       "      <td>1</td>\n",
       "      <td>1</td>\n",
       "      <td>0</td>\n",
       "      <td>0</td>\n",
       "      <td>1</td>\n",
       "      <td>1</td>\n",
       "      <td>0</td>\n",
       "      <td>0</td>\n",
       "      <td>0</td>\n",
       "      <td>0</td>\n",
       "      <td>136</td>\n",
       "    </tr>\n",
       "    <tr>\n",
       "      <th>4</th>\n",
       "      <td>5000000</td>\n",
       "      <td>665</td>\n",
       "      <td>Kharghar</td>\n",
       "      <td>1</td>\n",
       "      <td>0</td>\n",
       "      <td>0</td>\n",
       "      <td>1</td>\n",
       "      <td>1</td>\n",
       "      <td>1</td>\n",
       "      <td>1</td>\n",
       "      <td>0</td>\n",
       "      <td>0</td>\n",
       "      <td>1</td>\n",
       "      <td>1</td>\n",
       "      <td>0</td>\n",
       "      <td>0</td>\n",
       "      <td>0</td>\n",
       "      <td>0</td>\n",
       "      <td>136</td>\n",
       "    </tr>\n",
       "    <tr>\n",
       "      <th>...</th>\n",
       "      <td>...</td>\n",
       "      <td>...</td>\n",
       "      <td>...</td>\n",
       "      <td>...</td>\n",
       "      <td>...</td>\n",
       "      <td>...</td>\n",
       "      <td>...</td>\n",
       "      <td>...</td>\n",
       "      <td>...</td>\n",
       "      <td>...</td>\n",
       "      <td>...</td>\n",
       "      <td>...</td>\n",
       "      <td>...</td>\n",
       "      <td>...</td>\n",
       "      <td>...</td>\n",
       "      <td>...</td>\n",
       "      <td>...</td>\n",
       "      <td>...</td>\n",
       "      <td>...</td>\n",
       "    </tr>\n",
       "    <tr>\n",
       "      <th>6342</th>\n",
       "      <td>2485000</td>\n",
       "      <td>700</td>\n",
       "      <td>Shirgaon</td>\n",
       "      <td>1</td>\n",
       "      <td>1</td>\n",
       "      <td>0</td>\n",
       "      <td>0</td>\n",
       "      <td>0</td>\n",
       "      <td>0</td>\n",
       "      <td>0</td>\n",
       "      <td>0</td>\n",
       "      <td>0</td>\n",
       "      <td>0</td>\n",
       "      <td>0</td>\n",
       "      <td>0</td>\n",
       "      <td>0</td>\n",
       "      <td>0</td>\n",
       "      <td>0</td>\n",
       "      <td>320</td>\n",
       "    </tr>\n",
       "    <tr>\n",
       "      <th>6343</th>\n",
       "      <td>14500000</td>\n",
       "      <td>900</td>\n",
       "      <td>Thane West</td>\n",
       "      <td>2</td>\n",
       "      <td>0</td>\n",
       "      <td>0</td>\n",
       "      <td>0</td>\n",
       "      <td>0</td>\n",
       "      <td>0</td>\n",
       "      <td>0</td>\n",
       "      <td>0</td>\n",
       "      <td>0</td>\n",
       "      <td>0</td>\n",
       "      <td>0</td>\n",
       "      <td>0</td>\n",
       "      <td>0</td>\n",
       "      <td>0</td>\n",
       "      <td>0</td>\n",
       "      <td>342</td>\n",
       "    </tr>\n",
       "    <tr>\n",
       "      <th>6344</th>\n",
       "      <td>14500000</td>\n",
       "      <td>900</td>\n",
       "      <td>Thane West</td>\n",
       "      <td>2</td>\n",
       "      <td>0</td>\n",
       "      <td>0</td>\n",
       "      <td>1</td>\n",
       "      <td>0</td>\n",
       "      <td>0</td>\n",
       "      <td>0</td>\n",
       "      <td>0</td>\n",
       "      <td>0</td>\n",
       "      <td>1</td>\n",
       "      <td>0</td>\n",
       "      <td>0</td>\n",
       "      <td>1</td>\n",
       "      <td>0</td>\n",
       "      <td>0</td>\n",
       "      <td>342</td>\n",
       "    </tr>\n",
       "    <tr>\n",
       "      <th>6345</th>\n",
       "      <td>4100000</td>\n",
       "      <td>1380</td>\n",
       "      <td>Boisar</td>\n",
       "      <td>3</td>\n",
       "      <td>0</td>\n",
       "      <td>0</td>\n",
       "      <td>0</td>\n",
       "      <td>0</td>\n",
       "      <td>0</td>\n",
       "      <td>0</td>\n",
       "      <td>0</td>\n",
       "      <td>0</td>\n",
       "      <td>0</td>\n",
       "      <td>0</td>\n",
       "      <td>0</td>\n",
       "      <td>0</td>\n",
       "      <td>0</td>\n",
       "      <td>0</td>\n",
       "      <td>36</td>\n",
       "    </tr>\n",
       "    <tr>\n",
       "      <th>6346</th>\n",
       "      <td>2750000</td>\n",
       "      <td>700</td>\n",
       "      <td>Badlapur East</td>\n",
       "      <td>1</td>\n",
       "      <td>1</td>\n",
       "      <td>1</td>\n",
       "      <td>1</td>\n",
       "      <td>1</td>\n",
       "      <td>0</td>\n",
       "      <td>1</td>\n",
       "      <td>1</td>\n",
       "      <td>1</td>\n",
       "      <td>0</td>\n",
       "      <td>1</td>\n",
       "      <td>1</td>\n",
       "      <td>0</td>\n",
       "      <td>1</td>\n",
       "      <td>1</td>\n",
       "      <td>20</td>\n",
       "    </tr>\n",
       "  </tbody>\n",
       "</table>\n",
       "<p>6347 rows × 19 columns</p>\n",
       "</div>"
      ],
      "text/plain": [
       "         Price  Area       Location  No. of Bedrooms  New/Resale  Gymnasium  \\\n",
       "0      4850000   720       Kharghar                1           0          0   \n",
       "1      4500000   600       Kharghar                1           0          1   \n",
       "2      6700000   650       Kharghar                1           0          1   \n",
       "3      4500000   650       Kharghar                1           0          0   \n",
       "4      5000000   665       Kharghar                1           0          0   \n",
       "...        ...   ...            ...              ...         ...        ...   \n",
       "6342   2485000   700       Shirgaon                1           1          0   \n",
       "6343  14500000   900     Thane West                2           0          0   \n",
       "6344  14500000   900     Thane West                2           0          0   \n",
       "6345   4100000  1380         Boisar                3           0          0   \n",
       "6346   2750000   700  Badlapur East                1           1          1   \n",
       "\n",
       "      Lift Available  Car Parking  Maintenance Staff  24x7 Security  \\\n",
       "0                  1            1                  1              1   \n",
       "1                  1            1                  1              1   \n",
       "2                  1            1                  1              1   \n",
       "3                  1            1                  1              1   \n",
       "4                  1            1                  1              1   \n",
       "...              ...          ...                ...            ...   \n",
       "6342               0            0                  0              0   \n",
       "6343               0            0                  0              0   \n",
       "6344               1            0                  0              0   \n",
       "6345               0            0                  0              0   \n",
       "6346               1            1                  0              1   \n",
       "\n",
       "      Children's Play Area  Clubhouse  Intercom  Landscaped Gardens  \\\n",
       "0                        0          0         0                   0   \n",
       "1                        0          1         0                   0   \n",
       "2                        1          1         1                   0   \n",
       "3                        0          0         1                   1   \n",
       "4                        0          0         1                   1   \n",
       "...                    ...        ...       ...                 ...   \n",
       "6342                     0          0         0                   0   \n",
       "6343                     0          0         0                   0   \n",
       "6344                     0          0         1                   0   \n",
       "6345                     0          0         0                   0   \n",
       "6346                     1          1         0                   1   \n",
       "\n",
       "      Indoor Games  Gas Connection  Jogging Track  Swimming Pool  \\\n",
       "0                0               0              0              0   \n",
       "1                0               0              1              1   \n",
       "2                0               0              1              1   \n",
       "3                0               0              0              0   \n",
       "4                0               0              0              0   \n",
       "...            ...             ...            ...            ...   \n",
       "6342             0               0              0              0   \n",
       "6343             0               0              0              0   \n",
       "6344             0               1              0              0   \n",
       "6345             0               0              0              0   \n",
       "6346             1               0              1              1   \n",
       "\n",
       "      Location_encoding  \n",
       "0                   136  \n",
       "1                   136  \n",
       "2                   136  \n",
       "3                   136  \n",
       "4                   136  \n",
       "...                 ...  \n",
       "6342                320  \n",
       "6343                342  \n",
       "6344                342  \n",
       "6345                 36  \n",
       "6346                 20  \n",
       "\n",
       "[6347 rows x 19 columns]"
      ]
     },
     "execution_count": 12,
     "metadata": {},
     "output_type": "execute_result"
    }
   ],
   "source": [
    "# Adding Location_encoding column \n",
    "data_with_Location_encoding['Location_encoding'] = labelencoder.fit_transform(data_with_Location_encoding['Location'])\n",
    "data_with_Location_encoding"
   ]
  },
  {
   "cell_type": "markdown",
   "id": "9e8eeda2",
   "metadata": {},
   "source": [
    "## Finding Correlation of features of flat with its price"
   ]
  },
  {
   "cell_type": "code",
   "execution_count": 54,
   "id": "c16139b0",
   "metadata": {},
   "outputs": [],
   "source": [
    "data_without_location = data_with_Location_encoding.drop(['Location'], axis =1)"
   ]
  },
  {
   "cell_type": "code",
   "execution_count": 55,
   "id": "8f6b7e57",
   "metadata": {},
   "outputs": [
    {
     "data": {
      "text/plain": [
       "Price                   1.000000\n",
       "Area                    0.722336\n",
       "No. of Bedrooms         0.594865\n",
       "Swimming Pool           0.123902\n",
       "Indoor Games            0.122352\n",
       "Gas Connection          0.118245\n",
       "Gymnasium               0.098097\n",
       "Clubhouse               0.084775\n",
       "Lift Available          0.083656\n",
       "Landscaped Gardens      0.082225\n",
       "Intercom                0.063060\n",
       "Car Parking             0.055221\n",
       "Children's Play Area    0.045126\n",
       "24x7 Security           0.045107\n",
       "Jogging Track           0.042325\n",
       "New/Resale              0.032428\n",
       "Maintenance Staff       0.027604\n",
       "Location_encoding      -0.072550\n",
       "Name: Price, dtype: float64"
      ]
     },
     "execution_count": 55,
     "metadata": {},
     "output_type": "execute_result"
    }
   ],
   "source": [
    "corr_matrix = data_without_location.corr()\n",
    "corr_matrix['Price'].sort_values(ascending=False)"
   ]
  },
  {
   "cell_type": "code",
   "execution_count": 13,
   "id": "a65aab58",
   "metadata": {},
   "outputs": [
    {
     "name": "stdout",
     "output_type": "stream",
     "text": [
      "Correlation between Price and Price is 1.0\n",
      "Correlation between Price and Area is 0.7223358040503138\n",
      "Correlation between Price and No. of Bedrooms is 0.5948651214375358\n",
      "Correlation between Price and New/Resale is 0.032428282133873186\n",
      "Correlation between Price and Gymnasium is 0.09809710211542873\n",
      "Correlation between Price and Lift Available is 0.08365596438338509\n",
      "Correlation between Price and Car Parking is 0.05522108571202906\n",
      "Correlation between Price and Maintenance Staff is 0.027603913428221886\n",
      "Correlation between Price and 24x7 Security is 0.04510701594569401\n",
      "Correlation between Price and Children's Play Area is 0.04512631855553058\n",
      "Correlation between Price and Clubhouse is 0.08477513285524016\n",
      "Correlation between Price and Intercom is 0.06306049028798537\n",
      "Correlation between Price and Landscaped Gardens is 0.08222495466003621\n",
      "Correlation between Price and Indoor Games is 0.12235216756197147\n",
      "Correlation between Price and Gas Connection is 0.11824528002179953\n",
      "Correlation between Price and Jogging Track is 0.042324891767473415\n",
      "Correlation between Price and Swimming Pool is 0.12390190017015068\n",
      "Correlation between Price and Location_encoding is -0.0725498979511277\n"
     ]
    }
   ],
   "source": [
    "from scipy.stats import pearsonr\n",
    "correlation_val = {}\n",
    "for col in data_with_Location_encoding.columns:\n",
    "    if col == 'Location':\n",
    "        continue\n",
    "    corr, _ = pearsonr(data_with_Location_encoding['Price'], data_with_Location_encoding[col])\n",
    "    print(f\"Correlation between Price and {col} is {corr}\")\n",
    "    correlation_val[col] = corr\n",
    "    "
   ]
  },
  {
   "cell_type": "code",
   "execution_count": 14,
   "id": "e0b62474",
   "metadata": {},
   "outputs": [
    {
     "data": {
      "text/plain": [
       "{'Price': 1.0,\n",
       " 'Area': 0.7223358040503138,\n",
       " 'No. of Bedrooms': 0.5948651214375358,\n",
       " 'New/Resale': 0.032428282133873186,\n",
       " 'Gymnasium': 0.09809710211542873,\n",
       " 'Lift Available': 0.08365596438338509,\n",
       " 'Car Parking': 0.05522108571202906,\n",
       " 'Maintenance Staff': 0.027603913428221886,\n",
       " '24x7 Security': 0.04510701594569401,\n",
       " \"Children's Play Area\": 0.04512631855553058,\n",
       " 'Clubhouse': 0.08477513285524016,\n",
       " 'Intercom': 0.06306049028798537,\n",
       " 'Landscaped Gardens': 0.08222495466003621,\n",
       " 'Indoor Games': 0.12235216756197147,\n",
       " 'Gas Connection': 0.11824528002179953,\n",
       " 'Jogging Track': 0.042324891767473415,\n",
       " 'Swimming Pool': 0.12390190017015068,\n",
       " 'Location_encoding': -0.0725498979511277}"
      ]
     },
     "execution_count": 14,
     "metadata": {},
     "output_type": "execute_result"
    }
   ],
   "source": [
    "correlation_val"
   ]
  },
  {
   "cell_type": "code",
   "execution_count": 15,
   "id": "3a7f3cf1",
   "metadata": {},
   "outputs": [
    {
     "name": "stdout",
     "output_type": "stream",
     "text": [
      "   No. of Bedrooms  New/Resale  Gymnasium  Lift Available  Car Parking  \\\n",
      "0                1           0          0               1            1   \n",
      "1                1           0          1               1            1   \n",
      "2                1           0          1               1            1   \n",
      "3                1           0          0               1            1   \n",
      "4                1           0          0               1            1   \n",
      "\n",
      "   Maintenance Staff  24x7 Security  Children's Play Area  Clubhouse  \\\n",
      "0                  1              1                     0          0   \n",
      "1                  1              1                     0          1   \n",
      "2                  1              1                     1          1   \n",
      "3                  1              1                     0          0   \n",
      "4                  1              1                     0          0   \n",
      "\n",
      "   Intercom  Landscaped Gardens  Indoor Games  Gas Connection  Jogging Track  \\\n",
      "0         0                   0             0               0              0   \n",
      "1         0                   0             0               0              1   \n",
      "2         1                   0             0               0              1   \n",
      "3         1                   1             0               0              0   \n",
      "4         1                   1             0               0              0   \n",
      "\n",
      "   Swimming Pool  Location_encoding  \n",
      "0              0                136  \n",
      "1              1                136  \n",
      "2              1                136  \n",
      "3              0                136  \n",
      "4              0                136  \n",
      "0    720\n",
      "1    600\n",
      "2    650\n",
      "3    650\n",
      "4    665\n",
      "Name: Area, dtype: int64\n"
     ]
    }
   ],
   "source": [
    "# Splitting data into label and features\n",
    "Features = data_with_Location_encoding.iloc[:, 2:]\n",
    "Features = Features.drop(['Location'], axis = 1)\n",
    "Label = data_with_Location_encoding.iloc[:, 1]\n",
    "print(Features.head())\n",
    "print(Label.head())"
   ]
  },
  {
   "cell_type": "markdown",
   "id": "61c893c7",
   "metadata": {},
   "source": [
    "## Feature extraction"
   ]
  },
  {
   "cell_type": "code",
   "execution_count": 16,
   "id": "ec1b5941",
   "metadata": {},
   "outputs": [
    {
     "data": {
      "text/plain": [
       "ExtraTreesRegressor()"
      ]
     },
     "execution_count": 16,
     "metadata": {},
     "output_type": "execute_result"
    }
   ],
   "source": [
    "from sklearn.ensemble import ExtraTreesRegressor\n",
    "model = ExtraTreesRegressor()\n",
    "model.fit(Features, Label)"
   ]
  },
  {
   "cell_type": "code",
   "execution_count": 17,
   "id": "5f41c6c9",
   "metadata": {},
   "outputs": [],
   "source": [
    "from matplotlib import pyplot as plt"
   ]
  },
  {
   "cell_type": "markdown",
   "id": "f4b66005",
   "metadata": {},
   "source": [
    "## Horizontal bar graph according to their importance"
   ]
  },
  {
   "cell_type": "code",
   "execution_count": 18,
   "id": "07823ce8",
   "metadata": {},
   "outputs": [
    {
     "data": {
      "image/png": "[encoded data removed]",
      "text/plain": [
       "<Figure size 432x288 with 1 Axes>"
      ]
     },
     "metadata": {
      "needs_background": "light"
     },
     "output_type": "display_data"
    }
   ],
   "source": [
    "feat_imp = pd.Series(model.feature_importances_, index = Features.columns)\n",
    "feat_imp.nlargest(19).plot(kind = 'barh')\n",
    "plt.show()"
   ]
  },
  {
   "cell_type": "code",
   "execution_count": 19,
   "id": "c2463873",
   "metadata": {},
   "outputs": [
    {
     "data": {
      "image/png": "[encoded data removed]",
      "text/plain": [
       "<Figure size 432x288 with 2 Axes>"
      ]
     },
     "metadata": {
      "needs_background": "light"
     },
     "output_type": "display_data"
    }
   ],
   "source": [
    "import seaborn as sns\n",
    "cor = data_with_Location_encoding.corr()\n",
    "ax = sns.heatmap(cor)\n",
    "plt.show()"
   ]
  },
  {
   "cell_type": "code",
   "execution_count": 20,
   "id": "9ebf6fe8",
   "metadata": {},
   "outputs": [
    {
     "data": {
      "text/plain": [
       "<AxesSubplot:xlabel='Area', ylabel='Price'>"
      ]
     },
     "execution_count": 20,
     "metadata": {},
     "output_type": "execute_result"
    },
    {
     "data": {
      "image/png": "[encoded data removed]",
      "text/plain": [
       "<Figure size 432x288 with 1 Axes>"
      ]
     },
     "metadata": {
      "needs_background": "light"
     },
     "output_type": "display_data"
    }
   ],
   "source": [
    "data_with_Location_encoding.plot(x=\"Area\", y=\"Price\",kind=\"scatter\")"
   ]
  },
  {
   "cell_type": "code",
   "execution_count": 21,
   "id": "17562e7a",
   "metadata": {},
   "outputs": [
    {
     "data": {
      "text/plain": [
       "<AxesSubplot:xlabel='No. of Bedrooms', ylabel='Price'>"
      ]
     },
     "execution_count": 21,
     "metadata": {},
     "output_type": "execute_result"
    },
    {
     "data": {
      "image/png": "[encoded data removed]",
      "text/plain": [
       "<Figure size 432x288 with 1 Axes>"
      ]
     },
     "metadata": {
      "needs_background": "light"
     },
     "output_type": "display_data"
    }
   ],
   "source": [
    "data_with_Location_encoding.plot(x=\"No. of Bedrooms\", y=\"Price\",kind=\"scatter\")"
   ]
  },
  {
   "cell_type": "code",
   "execution_count": 22,
   "id": "63e882fb",
   "metadata": {},
   "outputs": [
    {
     "data": {
      "text/html": [
       "<div>\n",
       "<style scoped>\n",
       "    .dataframe tbody tr th:only-of-type {\n",
       "        vertical-align: middle;\n",
       "    }\n",
       "\n",
       "    .dataframe tbody tr th {\n",
       "        vertical-align: top;\n",
       "    }\n",
       "\n",
       "    .dataframe thead th {\n",
       "        text-align: right;\n",
       "    }\n",
       "</style>\n",
       "<table border=\"1\" class=\"dataframe\">\n",
       "  <thead>\n",
       "    <tr style=\"text-align: right;\">\n",
       "      <th></th>\n",
       "      <th>Price</th>\n",
       "      <th>Area</th>\n",
       "      <th>No. of Bedrooms</th>\n",
       "    </tr>\n",
       "  </thead>\n",
       "  <tbody>\n",
       "    <tr>\n",
       "      <th>Price</th>\n",
       "      <td>1.000000</td>\n",
       "      <td>0.722336</td>\n",
       "      <td>0.594865</td>\n",
       "    </tr>\n",
       "    <tr>\n",
       "      <th>Area</th>\n",
       "      <td>0.722336</td>\n",
       "      <td>1.000000</td>\n",
       "      <td>0.812692</td>\n",
       "    </tr>\n",
       "    <tr>\n",
       "      <th>No. of Bedrooms</th>\n",
       "      <td>0.594865</td>\n",
       "      <td>0.812692</td>\n",
       "      <td>1.000000</td>\n",
       "    </tr>\n",
       "  </tbody>\n",
       "</table>\n",
       "</div>"
      ],
      "text/plain": [
       "                    Price      Area  No. of Bedrooms\n",
       "Price            1.000000  0.722336         0.594865\n",
       "Area             0.722336  1.000000         0.812692\n",
       "No. of Bedrooms  0.594865  0.812692         1.000000"
      ]
     },
     "execution_count": 22,
     "metadata": {},
     "output_type": "execute_result"
    }
   ],
   "source": [
    "data_with_Location_encoding[[\"Price\", \"Area\",\"No. of Bedrooms\"]].corr(method=\"pearson\")"
   ]
  },
  {
   "cell_type": "markdown",
   "id": "42d76627",
   "metadata": {},
   "source": [
    "### The results are a pearson correlation of 72% between the price of a house and its area and 59% between the price and the number of bedrooms."
   ]
  },
  {
   "cell_type": "code",
   "execution_count": 25,
   "id": "5b3182c2",
   "metadata": {},
   "outputs": [
    {
     "data": {
      "text/plain": [
       "2    2601\n",
       "1    2307\n",
       "3    1201\n",
       "4     190\n",
       "5      39\n",
       "6       7\n",
       "7       2\n",
       "Name: No. of Bedrooms, dtype: int64"
      ]
     },
     "execution_count": 25,
     "metadata": {},
     "output_type": "execute_result"
    }
   ],
   "source": [
    "# It tells there are 2601 values with 2 bedroom. It give quick insights about data\n",
    "data_with_Location_encoding['No. of Bedrooms'].value_counts()"
   ]
  },
  {
   "cell_type": "markdown",
   "id": "25db26be",
   "metadata": {},
   "source": [
    "## Histogram Plot to analyze data "
   ]
  },
  {
   "cell_type": "code",
   "execution_count": 26,
   "id": "e5ff4a84",
   "metadata": {},
   "outputs": [],
   "source": [
    "%matplotlib inline"
   ]
  },
  {
   "cell_type": "code",
   "execution_count": 27,
   "id": "8d5afe72",
   "metadata": {},
   "outputs": [],
   "source": [
    "import matplotlib.pyplot as plt"
   ]
  },
  {
   "cell_type": "code",
   "execution_count": 31,
   "id": "2666672d",
   "metadata": {},
   "outputs": [
    {
     "data": {
      "text/plain": [
       "array([[<AxesSubplot:title={'center':'Price'}>,\n",
       "        <AxesSubplot:title={'center':'Area'}>,\n",
       "        <AxesSubplot:title={'center':'No. of Bedrooms'}>,\n",
       "        <AxesSubplot:title={'center':'New/Resale'}>],\n",
       "       [<AxesSubplot:title={'center':'Gymnasium'}>,\n",
       "        <AxesSubplot:title={'center':'Lift Available'}>,\n",
       "        <AxesSubplot:title={'center':'Car Parking'}>,\n",
       "        <AxesSubplot:title={'center':'Maintenance Staff'}>],\n",
       "       [<AxesSubplot:title={'center':'24x7 Security'}>,\n",
       "        <AxesSubplot:title={'center':\"Children's Play Area\"}>,\n",
       "        <AxesSubplot:title={'center':'Clubhouse'}>,\n",
       "        <AxesSubplot:title={'center':'Intercom'}>],\n",
       "       [<AxesSubplot:title={'center':'Landscaped Gardens'}>,\n",
       "        <AxesSubplot:title={'center':'Indoor Games'}>,\n",
       "        <AxesSubplot:title={'center':'Gas Connection'}>,\n",
       "        <AxesSubplot:title={'center':'Jogging Track'}>],\n",
       "       [<AxesSubplot:title={'center':'Swimming Pool'}>,\n",
       "        <AxesSubplot:title={'center':'Location_encoding'}>,\n",
       "        <AxesSubplot:>, <AxesSubplot:>]], dtype=object)"
      ]
     },
     "execution_count": 31,
     "metadata": {},
     "output_type": "execute_result"
    },
    {
     "data": {
      "image/png": "[encoded data removed]",
      "text/plain": [
       "<Figure size 1440x1080 with 20 Axes>"
      ]
     },
     "metadata": {
      "needs_background": "light"
     },
     "output_type": "display_data"
    }
   ],
   "source": [
    "data_with_Location_encoding.hist(bins = 50, figsize = (20,15))"
   ]
  },
  {
   "cell_type": "markdown",
   "id": "8249c71e",
   "metadata": {},
   "source": [
    "## Train-Test Splitting "
   ]
  },
  {
   "cell_type": "code",
   "execution_count": 44,
   "id": "f2a86a5e",
   "metadata": {},
   "outputs": [],
   "source": [
    "def split_train_test(data, test_ratio):\n",
    "    np.random.seed(42) # This will fix the shuffled values\n",
    "    shuffled = np.random.permutation(len(data))\n",
    "#     print(shuffled)\n",
    "    test_set_size = int(len(data) * test_ratio)\n",
    "    test_indices = shuffled[:test_set_size]\n",
    "    train_indices = shuffled[test_set_size:]\n",
    "    return data.iloc[train_indices], data.iloc[test_indices]"
   ]
  },
  {
   "cell_type": "code",
   "execution_count": 45,
   "id": "25a23adc",
   "metadata": {},
   "outputs": [],
   "source": [
    "train_set, test_set = split_train_test(data_with_Location_encoding, 0.2)"
   ]
  },
  {
   "cell_type": "code",
   "execution_count": 46,
   "id": "110fe4dc",
   "metadata": {},
   "outputs": [
    {
     "name": "stdout",
     "output_type": "stream",
     "text": [
      "Rows in train set : 5078\n",
      "Rows in test set : 1269\n"
     ]
    }
   ],
   "source": [
    "print(f\"Rows in train set : {len(train_set)}\\nRows in test set : {len(test_set)}\")"
   ]
  },
  {
   "cell_type": "markdown",
   "id": "bd41336f",
   "metadata": {},
   "source": [
    "### Using function from sklearn to split data into training and testing set"
   ]
  },
  {
   "cell_type": "code",
   "execution_count": 47,
   "id": "db998a8f",
   "metadata": {},
   "outputs": [
    {
     "name": "stdout",
     "output_type": "stream",
     "text": [
      "Rows in train set : 5077\n",
      "Rows in test set : 1270\n"
     ]
    }
   ],
   "source": [
    "from sklearn.model_selection import train_test_split\n",
    "train_set, test_set = train_test_split(data_with_Location_encoding, test_size = 0.2, random_state=42)\n",
    "print(f\"Rows in train set : {len(train_set)}\\nRows in test set : {len(test_set)}\")"
   ]
  },
  {
   "cell_type": "markdown",
   "id": "76007e8f",
   "metadata": {},
   "source": [
    "### Stratified Shuffle split"
   ]
  },
  {
   "cell_type": "code",
   "execution_count": null,
   "id": "049c46a8",
   "metadata": {},
   "outputs": [],
   "source": []
  }
 ],
 "metadata": {
  "kernelspec": {
   "display_name": "Python 3 (ipykernel)",
   "language": "python",
   "name": "python3"
  },
  "language_info": {
   "codemirror_mode": {
    "name": "ipython",
    "version": 3
   },
   "file_extension": ".py",
   "mimetype": "text/x-python",
   "name": "python",
   "nbconvert_exporter": "python",
   "pygments_lexer": "ipython3",
   "version": "3.8.5"
  }
 },
 "nbformat": 4,
 "nbformat_minor": 5
}
